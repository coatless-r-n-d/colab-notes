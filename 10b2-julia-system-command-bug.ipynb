{
  "nbformat": 4,
  "nbformat_minor": 0,
  "metadata": {
    "colab": {
      "provenance": [],
      "authorship_tag": "ABX9TyPnLnZOVXF83+pHEIYbgK3G",
      "include_colab_link": true
    },
    "kernelspec": {
      "name": "julia",
      "display_name": "Julia"
    },
    "language_info": {
      "name": "julia"
    }
  },
  "cells": [
    {
      "cell_type": "markdown",
      "metadata": {
        "id": "view-in-github",
        "colab_type": "text"
      },
      "source": [
        "<a href=\"https://colab.research.google.com/github/coatless-r-n-d/colab-notes/blob/main/10b2-julia-system-command-bug.ipynb\" target=\"_parent\"><img src=\"https://colab.research.google.com/assets/colab-badge.svg\" alt=\"Open In Colab\"/></a>"
      ]
    },
    {
      "cell_type": "markdown",
      "source": [
        "# System Commands\n",
        "\n",
        "Attempt to use the [shell mode (`; command`) syntax](https://docs.julialang.org/en/v1/stdlib/REPL/#man-shell-mode)"
      ],
      "metadata": {
        "id": "rqRr5HJR_dVB"
      }
    },
    {
      "cell_type": "code",
      "execution_count": 2,
      "metadata": {
        "colab": {
          "base_uri": "https://localhost:8080/",
          "height": 124
        },
        "id": "axNsvH-hWn7p",
        "outputId": "c58fd7f1-b2e1-48e8-bb18-cff971365de6"
      },
      "outputs": [
        {
          "output_type": "error",
          "ename": "LoadError",
          "evalue": "UndefVarError: `ls` not defined",
          "traceback": [
            "UndefVarError: `ls` not defined",
            "",
            "Stacktrace:",
            " [1] top-level scope",
            "   @ In[2]:1"
          ]
        }
      ],
      "source": [
        "# Run system commands with `; command`\n",
        ";ls -la"
      ]
    },
    {
      "cell_type": "markdown",
      "source": [
        "Attempt to fallback to the [backtick notation (``) with `run()`](https://docs.julialang.org/en/v1/manual/running-external-programs/) to run a shell command"
      ],
      "metadata": {
        "id": "jgD71Dd1HE1i"
      }
    },
    {
      "cell_type": "code",
      "source": [
        "run(`ls -la`)"
      ],
      "metadata": {
        "colab": {
          "base_uri": "https://localhost:8080/"
        },
        "id": "GUK2pva5xAd8",
        "outputId": "231b05e4-1356-4839-ca04-4543bd758287"
      },
      "execution_count": null,
      "outputs": [
        {
          "output_type": "stream",
          "name": "stdout",
          "text": [
            "total 16\n",
            "drwxr-xr-x 1 root root 4096 Mar  6 14:29 .\n",
            "drwxr-xr-x 1 root root 4096 Mar  9 20:51 ..\n",
            "drwxr-xr-x 4 root root 4096 Mar  6 14:29 .config\n",
            "drwxr-xr-x 1 root root 4096 Mar  6 14:29 sample_data\n"
          ]
        },
        {
          "output_type": "execute_result",
          "data": {
            "text/plain": [
              "Process(`\u001b[4mls\u001b[24m \u001b[4m-la\u001b[24m`, ProcessExited(0))"
            ]
          },
          "metadata": {},
          "execution_count": 12
        }
      ]
    }
  ]
}
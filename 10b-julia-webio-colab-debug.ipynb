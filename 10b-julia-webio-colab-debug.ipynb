{
  "nbformat": 4,
  "nbformat_minor": 0,
  "metadata": {
    "colab": {
      "provenance": [],
      "authorship_tag": "ABX9TyO5Dohoj2hZPukIgWGGBSaJ",
      "include_colab_link": true
    },
    "kernelspec": {
      "name": "julia",
      "display_name": "Julia"
    },
    "language_info": {
      "name": "julia"
    }
  },
  "cells": [
    {
      "cell_type": "markdown",
      "metadata": {
        "id": "view-in-github",
        "colab_type": "text"
      },
      "source": [
        "<a href=\"https://colab.research.google.com/github/coatless-r-n-d/colab-notes/blob/main/10b-julia-webio-colab-debug.ipynb\" target=\"_parent\"><img src=\"https://colab.research.google.com/assets/colab-badge.svg\" alt=\"Open In Colab\"/></a>"
      ]
    },
    {
      "cell_type": "markdown",
      "source": [
        "Following instructions from:\n",
        "\n",
        "<https://juliagizmos.github.io/WebIO.jl/latest/providers/ijulia/>"
      ],
      "metadata": {
        "id": "P2nB79fM1iLn"
      }
    },
    {
      "cell_type": "markdown",
      "source": [
        "To run all the cells, please use:\n",
        "\n",
        "```\n",
        "Runtime menu -> Run all\n",
        "```\n",
        "\n",
        "To restart the session, please use:\n",
        "\n",
        "```\n",
        "Runtime menu -> Restart session\n",
        "```"
      ],
      "metadata": {
        "id": "_sxk2tZQ2w7d"
      }
    },
    {
      "cell_type": "markdown",
      "metadata": {
        "id": "yT-ALHk8Wn7p"
      },
      "source": [
        "## Install webio jupyter extension\n"
      ]
    },
    {
      "cell_type": "code",
      "source": [
        "run(`python3 -m pip install --upgrade webio_jupyter_extension`)"
      ],
      "metadata": {
        "colab": {
          "base_uri": "https://localhost:8080/"
        },
        "id": "P5n123L_0gPJ",
        "outputId": "8a252519-8c21-4b62-bb15-cd4075852160"
      },
      "execution_count": 1,
      "outputs": [
        {
          "output_type": "stream",
          "name": "stdout",
          "text": [
            "Collecting webio_jupyter_extension\n",
            "  Downloading webio_jupyter_extension-0.1.0-py3-none-any.whl.metadata (3.3 kB)\n",
            "Downloading webio_jupyter_extension-0.1.0-py3-none-any.whl (219 kB)\n",
            "   ━━━━━━━━━━━━━━━━━━━━━━━━━━━━━━━━━━━━━━━━ 219.9/219.9 kB 5.0 MB/s eta 0:00:00\n",
            "Installing collected packages: webio_jupyter_extension\n",
            "Successfully installed webio_jupyter_extension-0.1.0\n"
          ]
        },
        {
          "output_type": "execute_result",
          "data": {
            "text/plain": [
              "Process(`\u001b[4mpython3\u001b[24m \u001b[4m-m\u001b[24m \u001b[4mpip\u001b[24m \u001b[4minstall\u001b[24m \u001b[4m--upgrade\u001b[24m \u001b[4mwebio_jupyter_extension\u001b[24m`, ProcessExited(0))"
            ]
          },
          "metadata": {},
          "execution_count": 1
        }
      ]
    },
    {
      "cell_type": "markdown",
      "source": [
        "## Verify installed"
      ],
      "metadata": {
        "id": "6FZkXocl6IQy"
      }
    },
    {
      "cell_type": "code",
      "source": [
        "run(`jupyter nbextension list`)"
      ],
      "metadata": {
        "colab": {
          "base_uri": "https://localhost:8080/"
        },
        "id": "WNisHY3U0xaK",
        "outputId": "1ae715da-9f9b-476d-8d2a-49dfc03a5a6f"
      },
      "execution_count": 2,
      "outputs": [
        {
          "output_type": "stream",
          "name": "stdout",
          "text": [
            "Known nbextensions:\n",
            "  config dir: /usr/local/etc/jupyter/nbconfig\n",
            "    notebook section\n",
            "      bqplot/extension \u001b[32m enabled \u001b[0m\n",
            "      ipyevents/extension \u001b[32m enabled \u001b[0m\n",
            "      ipytree/extension \u001b[32m enabled \u001b[0m\n",
            "      jupyter-leaflet/extension \u001b[32m enabled \u001b[0m\n",
            "      jupyterlab-plotly/extension \u001b[32m enabled \u001b[0m\n",
            "      webio-jupyter-nbextension/nbextension \u001b[32m enabled \u001b[0m\n",
            "      jupyter-js-widgets/extension \u001b[32m enabled \u001b[0m\n",
            "    tree section\n",
            "      ipyparallel/main \u001b[32m enabled \u001b[0m\n"
          ]
        },
        {
          "output_type": "stream",
          "name": "stderr",
          "text": [
            "      - Validating: \u001b[32mOK\u001b[0m\n",
            "      - Validating: problems found:\n",
            "        - require? \u001b[31m X\u001b[0m ipyevents/extension\n",
            "      - Validating: \u001b[32mOK\u001b[0m\n",
            "      - Validating: \u001b[32mOK\u001b[0m\n",
            "      - Validating: \u001b[32mOK\u001b[0m\n",
            "      - Validating: \u001b[32mOK\u001b[0m\n",
            "      - Validating: \u001b[32mOK\u001b[0m\n",
            "      - Validating: \u001b[32mOK\u001b[0m\n"
          ]
        },
        {
          "output_type": "execute_result",
          "data": {
            "text/plain": [
              "Process(`\u001b[4mjupyter\u001b[24m \u001b[4mnbextension\u001b[24m \u001b[4mlist\u001b[24m`, ProcessExited(0))"
            ]
          },
          "metadata": {},
          "execution_count": 2
        }
      ]
    },
    {
      "cell_type": "markdown",
      "source": [
        "Trigger a **restart** of the runtime to ensure that the Jupyter Extension was picked up"
      ],
      "metadata": {
        "id": "99WCO9341lU6"
      }
    },
    {
      "cell_type": "markdown",
      "source": [
        "## Install WebIO.jl"
      ],
      "metadata": {
        "id": "ao-RfrM-6Kn-"
      }
    },
    {
      "cell_type": "markdown",
      "source": [
        "Install the WebIO package"
      ],
      "metadata": {
        "id": "9JyYOHB15n-S"
      }
    },
    {
      "cell_type": "code",
      "source": [
        "using Pkg\n",
        "Pkg.add(\"WebIO\")"
      ],
      "metadata": {
        "colab": {
          "base_uri": "https://localhost:8080/"
        },
        "id": "yUGh9EAQ5l20",
        "outputId": "f9cea026-4276-456c-ef4b-1b07e0bd7115"
      },
      "execution_count": 3,
      "outputs": [
        {
          "output_type": "stream",
          "name": "stderr",
          "text": [
            "\u001b[32m\u001b[1m    Updating\u001b[22m\u001b[39m registry at `~/.julia/registries/General.toml`\n",
            "\u001b[32m\u001b[1m   Resolving\u001b[22m\u001b[39m package versions...\n",
            "\u001b[32m\u001b[1m   Installed\u001b[22m\u001b[39m AssetRegistry ───────── v0.1.0\n",
            "\u001b[32m\u001b[1m   Installed\u001b[22m\u001b[39m FunctionalCollections ─ v0.5.0\n",
            "\u001b[32m\u001b[1m   Installed\u001b[22m\u001b[39m Widgets ─────────────── v0.6.7\n",
            "\u001b[32m\u001b[1m   Installed\u001b[22m\u001b[39m Pidfile ─────────────── v1.3.0\n",
            "\u001b[32m\u001b[1m   Installed\u001b[22m\u001b[39m WebSockets ──────────── v1.6.0\n",
            "\u001b[32m\u001b[1m   Installed\u001b[22m\u001b[39m WebIO ───────────────── v0.8.21\n",
            "\u001b[32m\u001b[1m    Updating\u001b[22m\u001b[39m `~/.julia/environments/v1.10/Project.toml`\n",
            "  \u001b[90m[0f1e0344] \u001b[39m\u001b[92m+ WebIO v0.8.21\u001b[39m\n",
            "\u001b[32m\u001b[1m    Updating\u001b[22m\u001b[39m `~/.julia/environments/v1.10/Manifest.toml`\n",
            "  \u001b[90m[bf4720bc] \u001b[39m\u001b[92m+ AssetRegistry v0.1.0\u001b[39m\n",
            "  \u001b[90m[de31a74c] \u001b[39m\u001b[92m+ FunctionalCollections v0.5.0\u001b[39m\n",
            "  \u001b[90m[fa939f87] \u001b[39m\u001b[92m+ Pidfile v1.3.0\u001b[39m\n",
            "  \u001b[90m[0f1e0344] \u001b[39m\u001b[92m+ WebIO v0.8.21\u001b[39m\n",
            "  \u001b[90m[104b5d7c] \u001b[39m\u001b[92m+ WebSockets v1.6.0\u001b[39m\n",
            "  \u001b[90m[cc8bc4a8] \u001b[39m\u001b[92m+ Widgets v0.6.7\u001b[39m\n",
            "\u001b[32m\u001b[1m    Building\u001b[22m\u001b[39m WebIO → `~/.julia/scratchspaces/44cfe95a-1eb2-52ea-b672-e2afdf69b78f/0eef0765186f7452e52236fa42ca8c9b3c11c6e3/build.log`\n",
            "\u001b[32m\u001b[1mPrecompiling\u001b[22m\u001b[39m packages...\n",
            "   3059.7 ms\u001b[32m  ✓ \u001b[39m\u001b[90mPidfile\u001b[39m\n",
            "   2387.9 ms\u001b[32m  ✓ \u001b[39m\u001b[90mFunctionalCollections\u001b[39m\n",
            "   3533.1 ms\u001b[32m  ✓ \u001b[39m\u001b[90mWebSockets\u001b[39m\n",
            "   1353.4 ms\u001b[32m  ✓ \u001b[39m\u001b[90mAssetRegistry\u001b[39m\n",
            "   1928.9 ms\u001b[32m  ✓ \u001b[39m\u001b[90mWidgets\u001b[39m\n",
            "   2527.2 ms\u001b[32m  ✓ \u001b[39mWebIO\n",
            "  6 dependencies successfully precompiled in 14 seconds. 324 already precompiled.\n"
          ]
        }
      ]
    },
    {
      "cell_type": "markdown",
      "source": [
        "### First demo\n",
        "\n",
        "https://juliagizmos.github.io/WebIO.jl/latest/gettingstarted/#Jupyter"
      ],
      "metadata": {
        "id": "wsX2thTT6Nek"
      }
    },
    {
      "cell_type": "code",
      "source": [
        "using WebIO\n",
        "node(:p, \"Hello, Jupyter\")"
      ],
      "metadata": {
        "colab": {
          "base_uri": "https://localhost:8080/",
          "height": 182
        },
        "id": "f_pcUbNC5vbw",
        "outputId": "e0d13df2-4b84-44b4-abbc-ec5b62f6ea0a"
      },
      "execution_count": 4,
      "outputs": [
        {
          "output_type": "display_data",
          "data": {
            "text/plain": [
              "WebIO._IJuliaInit()"
            ],
            "application/vnd.webio.node+json": {
              "props": {},
              "nodeType": "DOM",
              "type": "node",
              "instanceArgs": {
                "namespace": "html",
                "tag": "div"
              },
              "children": []
            },
            "text/html": [
              "<div style=\"padding: 1em; background-color: #f8d6da; border: 1px solid #f5c6cb; font-weight: bold;\">\n",
              "<p>The WebIO Jupyter extension was not detected. See the\n",
              "<a href=\"https://juliagizmos.github.io/WebIO.jl/latest/providers/ijulia/\" target=\"_blank\">\n",
              "    WebIO Jupyter integration documentation\n",
              "</a>\n",
              "for more information.\n",
              "</div>\n"
            ]
          },
          "metadata": {}
        },
        {
          "output_type": "execute_result",
          "data": {
            "text/plain": [
              "(p\n",
              "  \"Hello, Jupyter\")"
            ],
            "application/vnd.webio.node+json": {
              "props": {},
              "nodeType": "DOM",
              "type": "node",
              "instanceArgs": {
                "namespace": "html",
                "tag": "p"
              },
              "children": [
                "Hello, Jupyter"
              ]
            },
            "text/html": [
              "<div\n",
              "    class=\"webio-mountpoint\"\n",
              "    data-webio-mountpoint=\"7633036341614181522\"\n",
              ">\n",
              "    <script>\n",
              "    (function(){\n",
              "    // Some integrations (namely, IJulia/Jupyter) use an alternate render pathway than\n",
              "    // just putting the html on the page. If WebIO isn't defined, then it's pretty likely\n",
              "    // that we're in one of those situations and the integration just isn't installed\n",
              "    // correctly.\n",
              "    if (typeof window.WebIO === \"undefined\") {\n",
              "        document\n",
              "            .querySelector('[data-webio-mountpoint=\"7633036341614181522\"]')\n",
              "            .innerHTML = (\n",
              "                '<div style=\"padding: 1em; background-color: #f8d6da; border: 1px solid #f5c6cb; font-weight: bold;\">' +\n",
              "                '<p><strong>WebIO not detected.</strong></p>' +\n",
              "                '<p>Please read ' +\n",
              "                '<a href=\"https://juliagizmos.github.io/WebIO.jl/latest/troubleshooting/not-detected/\" target=\"_blank\">the troubleshooting guide</a> ' +\n",
              "                'for more information on how to resolve this issue.</p>' +\n",
              "                '<p><a href=\"https://juliagizmos.github.io/WebIO.jl/latest/troubleshooting/not-detected/\" target=\"_blank\">https://juliagizmos.github.io/WebIO.jl/latest/troubleshooting/not-detected/</a></p>' +\n",
              "                '</div>'\n",
              "            );\n",
              "        return;\n",
              "    }\n",
              "    WebIO.mount(\n",
              "        document.querySelector('[data-webio-mountpoint=\"7633036341614181522\"]'),\n",
              "        {\"props\":{},\"nodeType\":\"DOM\",\"type\":\"node\",\"instanceArgs\":{\"namespace\":\"html\",\"tag\":\"p\"},\"children\":[\"Hello, Jupyter\"]},\n",
              "        window,\n",
              "    );\n",
              "    })()\n",
              "    </script>\n",
              "</div>\n"
            ]
          },
          "metadata": {},
          "execution_count": 4
        }
      ]
    },
    {
      "cell_type": "markdown",
      "source": [
        "# Interact.jl\n",
        "\n",
        "The goal of getting WebIO to work is to use it with `Interact.jl`. However, the dependency on `WebIO` is problematic."
      ],
      "metadata": {
        "id": "Vq0fSMwA7lSG"
      }
    },
    {
      "cell_type": "markdown",
      "source": [
        "## Install Interact.jl"
      ],
      "metadata": {
        "id": "6KZfk69E6UsD"
      }
    },
    {
      "cell_type": "markdown",
      "source": [
        "Install the interact package"
      ],
      "metadata": {
        "id": "tlEmCUOj5sp2"
      }
    },
    {
      "cell_type": "code",
      "execution_count": 6,
      "metadata": {
        "colab": {
          "base_uri": "https://localhost:8080/"
        },
        "id": "P9W39vsAWn7p",
        "outputId": "303a2417-cf4e-4d28-b558-dc9b44bdcde5"
      },
      "outputs": [
        {
          "output_type": "stream",
          "name": "stderr",
          "text": [
            "\u001b[32m\u001b[1m   Resolving\u001b[22m\u001b[39m package versions...\n",
            "\u001b[32m\u001b[1m   Installed\u001b[22m\u001b[39m libsodium_jll ──── v1.0.21+0\n",
            "\u001b[32m\u001b[1m   Installed\u001b[22m\u001b[39m ColorVectorSpace ─ v0.10.0\n",
            "\u001b[32m\u001b[1m   Installed\u001b[22m\u001b[39m CSSUtil ────────── v0.1.1\n",
            "\u001b[32m\u001b[1m   Installed\u001b[22m\u001b[39m Knockout ───────── v0.2.6\n",
            "\u001b[32m\u001b[1m   Installed\u001b[22m\u001b[39m Colors ─────────── v0.12.11\n",
            "\u001b[32m\u001b[1m   Installed\u001b[22m\u001b[39m Interact ───────── v0.10.5\n",
            "\u001b[32m\u001b[1m   Installed\u001b[22m\u001b[39m JSExpr ─────────── v0.5.4\n",
            "\u001b[32m\u001b[1m   Installed\u001b[22m\u001b[39m InteractBase ───── v0.10.10\n",
            "\u001b[32m\u001b[1m   Installed\u001b[22m\u001b[39m ColorTypes ─────── v0.11.5\n",
            "\u001b[32m\u001b[1m    Updating\u001b[22m\u001b[39m `~/.julia/environments/v1.10/Project.toml`\n",
            "  \u001b[90m[c601a237] \u001b[39m\u001b[92m+ Interact v0.10.5\u001b[39m\n",
            "\u001b[32m\u001b[1m    Updating\u001b[22m\u001b[39m `~/.julia/environments/v1.10/Manifest.toml`\n",
            "  \u001b[90m[70588ee8] \u001b[39m\u001b[92m+ CSSUtil v0.1.1\u001b[39m\n",
            "\u001b[33m⌅\u001b[39m \u001b[90m[3da002f7] \u001b[39m\u001b[95m↓ ColorTypes v0.12.0 ⇒ v0.11.5\u001b[39m\n",
            "\u001b[32m⌃\u001b[39m \u001b[90m[c3611d14] \u001b[39m\u001b[95m↓ ColorVectorSpace v0.11.0 ⇒ v0.10.0\u001b[39m\n",
            "\u001b[33m⌅\u001b[39m \u001b[90m[5ae59095] \u001b[39m\u001b[95m↓ Colors v0.13.0 ⇒ v0.12.11\u001b[39m\n",
            "  \u001b[90m[c601a237] \u001b[39m\u001b[92m+ Interact v0.10.5\u001b[39m\n",
            "  \u001b[90m[d3863d7c] \u001b[39m\u001b[92m+ InteractBase v0.10.10\u001b[39m\n",
            "  \u001b[90m[97c1335a] \u001b[39m\u001b[92m+ JSExpr v0.5.4\u001b[39m\n",
            "  \u001b[90m[bcebb21b] \u001b[39m\u001b[92m+ Knockout v0.2.6\u001b[39m\n",
            "  \u001b[90m[a9144af2] \u001b[39m\u001b[93m↑ libsodium_jll v1.0.20+3 ⇒ v1.0.21+0\u001b[39m\n",
            "\u001b[36m\u001b[1m        Info\u001b[22m\u001b[39m Packages marked with \u001b[32m⌃\u001b[39m and \u001b[33m⌅\u001b[39m have new versions available. Those with \u001b[32m⌃\u001b[39m may be upgradable, but those with \u001b[33m⌅\u001b[39m are restricted by compatibility constraints from upgrading. To see why use `status --outdated -m`\n",
            "\u001b[32m\u001b[1m    Building\u001b[22m\u001b[39m Knockout ────→ `~/.julia/scratchspaces/44cfe95a-1eb2-52ea-b672-e2afdf69b78f/91835de56d816864f1c38fb5e3fad6eb1e741271/build.log`\n",
            "\u001b[32m\u001b[1m    Building\u001b[22m\u001b[39m InteractBase → `~/.julia/scratchspaces/44cfe95a-1eb2-52ea-b672-e2afdf69b78f/aa5daeff326db0a9126a225b58ca04ae12f57259/build.log`\n",
            "\u001b[32m\u001b[1m    Building\u001b[22m\u001b[39m Interact ────→ `~/.julia/scratchspaces/44cfe95a-1eb2-52ea-b672-e2afdf69b78f/c5091992248c7134af7c90554305c600d5d9012b/build.log`\n",
            "\u001b[32m\u001b[1mPrecompiling\u001b[22m\u001b[39m packages...\n",
            "    975.3 ms\u001b[33m  ✓ \u001b[39m\u001b[90mlibsodium_jll\u001b[39m\n",
            "   3813.6 ms\u001b[33m  ✓ \u001b[39m\u001b[90mColorTypes\u001b[39m\n",
            "   7045.3 ms\u001b[32m  ✓ \u001b[39m\u001b[90mColorVectorSpace\u001b[39m\n",
            "   1460.4 ms\u001b[32m  ✓ \u001b[39m\u001b[90mColorVectorSpace → SpecialFunctionsExt\u001b[39m\n",
            "  10175.7 ms\u001b[33m  ✓ \u001b[39m\u001b[90mColors\u001b[39m\n",
            "   8540.5 ms\u001b[32m  ✓ \u001b[39m\u001b[90mFreeTypeAbstraction\u001b[39m\n",
            "  12099.7 ms\u001b[32m  ✓ \u001b[39m\u001b[90mColorSchemes\u001b[39m\n",
            "CSSUtil\u001b[33m Waiting for background task / IO / timer.\u001b[39m\n",
            "[pid 1191] waiting for IO to finish:\n",
            " Handle type        uv_handle_t->data\n",
            " fs_event           0x156a040->0x7d979ff0bf40\n",
            " timer              0x16259e0->0x7d979ff0bf70\n",
            "This means that a package has started a background task or event source that has not finished running. For precompilation to complete successfully, the event source needs to be closed explicitly. See the developer documentation on fixing precompilation hangs for more help.\n",
            "   8022.8 ms\u001b[32m  ✓ \u001b[39m\u001b[90mCSSUtil\u001b[39m\n",
            "  12230.0 ms\u001b[32m  ✓ \u001b[39m\u001b[90mJSExpr\u001b[39m\n",
            "  17181.6 ms\u001b[32m  ✓ \u001b[39m\u001b[90mMathTeXEngine\u001b[39m\n",
            "   6824.4 ms\u001b[32m  ✓ \u001b[39m\u001b[90mKnockout\u001b[39m\n",
            "   9817.6 ms\u001b[32m  ✓ \u001b[39m\u001b[90mInteractBase\u001b[39m\n",
            "   4164.7 ms\u001b[32m  ✓ \u001b[39mInteract\n",
            "  41821.1 ms\u001b[32m  ✓ \u001b[39m\u001b[90mPlotUtils\u001b[39m\n",
            "  12838.5 ms\u001b[32m  ✓ \u001b[39m\u001b[90mPlotThemes\u001b[39m\n",
            "  77039.8 ms\u001b[32m  ✓ \u001b[39m\u001b[90mImageCore\u001b[39m\n",
            "  15620.7 ms\u001b[32m  ✓ \u001b[39m\u001b[90mRecipesPipeline\u001b[39m\n",
            "   5839.3 ms\u001b[32m  ✓ \u001b[39m\u001b[90mJpegTurbo\u001b[39m\n",
            "   8952.0 ms\u001b[32m  ✓ \u001b[39m\u001b[90mImageBase\u001b[39m\n",
            "   6000.4 ms\u001b[32m  ✓ \u001b[39m\u001b[90mSixel\u001b[39m\n",
            "   5001.2 ms\u001b[32m  ✓ \u001b[39m\u001b[90mWebP\u001b[39m\n",
            "  18394.2 ms\u001b[32m  ✓ \u001b[39m\u001b[90mPNGFiles\u001b[39m\n",
            "   5861.0 ms\u001b[32m  ✓ \u001b[39m\u001b[90mImageAxes\u001b[39m\n",
            "   3741.7 ms\u001b[32m  ✓ \u001b[39m\u001b[90mImageMetadata\u001b[39m\n",
            "   2924.0 ms\u001b[32m  ✓ \u001b[39m\u001b[90mNetpbm\u001b[39m\n",
            "         \u001b[91m  ✗ \u001b[39mPlots\n",
            "         \u001b[91m  ✗ \u001b[39mMakie\n",
            "         \u001b[91m  ✗ \u001b[39mPlots → UnitfulExt\n",
            "         \u001b[91m  ✗ \u001b[39mPlots → IJuliaExt\n",
            "         \u001b[91m  ✗ \u001b[39mPlots → FileIOExt\n",
            "         \u001b[91m  ✗ \u001b[39mPlots → GeometryBasicsExt\n",
            "  25 dependencies successfully precompiled in 350 seconds. 304 already precompiled.\n",
            "  \u001b[33m3\u001b[39m dependencies precompiled but different versions are currently loaded. Restart julia to access the new versions\n",
            "  \u001b[33m1\u001b[39m dependency had output during precompilation:\u001b[33m\n",
            "┌ \u001b[39mCSSUtil\u001b[33m\n",
            "│  \u001b[39m[pid 1191] waiting for IO to finish:\u001b[33m\n",
            "│  \u001b[39m Handle type        uv_handle_t->data\u001b[33m\n",
            "│  \u001b[39m fs_event           0x156a040->0x7d979ff0bf40\u001b[33m\n",
            "│  \u001b[39m timer              0x16259e0->0x7d979ff0bf70\u001b[33m\n",
            "│  \u001b[39mThis means that a package has started a background task or event source that has not finished running. For precompilation to complete successfully, the event source needs to be closed explicitly. See the developer documentation on fixing precompilation hangs for more help.\u001b[33m\n",
            "└  \u001b[39m\n",
            "  \u001b[91m6\u001b[39m dependencies errored.\n",
            "  For a report of the errors see `julia> err`. To retry use `pkg> precompile`\n"
          ]
        }
      ],
      "source": [
        "using Pkg\n",
        "Pkg.add(\"Interact\")"
      ]
    },
    {
      "cell_type": "markdown",
      "source": [
        "## Manipulate example"
      ],
      "metadata": {
        "id": "m3meBzFp73S0"
      }
    },
    {
      "cell_type": "markdown",
      "source": [
        "Try the example from:\n",
        "\n",
        "<https://juliagizmos.github.io/Interact.jl/latest/tutorial/#A-simpler-approach-for-simpler-cases-1>"
      ],
      "metadata": {
        "id": "U8tl72IL2V0k"
      }
    },
    {
      "cell_type": "code",
      "source": [
        "using Interact\n",
        "using Plots\n",
        "\n",
        "x = y = 0:0.1:30\n",
        "\n",
        "freqs = OrderedDict(zip([\"pi/4\", \"π/2\", \"3π/4\", \"π\"], [π/4, π/2, 3π/4, π]))\n",
        "\n",
        "mp = @manipulate for freq1 in freqs, freq2 in slider(0.01:0.1:4π; label=\"freq2\")\n",
        "    y = @. sin(freq1*x) * sin(freq2*x)\n",
        "    plot(x, y)\n",
        "end"
      ],
      "metadata": {
        "id": "9MF_vJjv2VUi"
      },
      "execution_count": null,
      "outputs": []
    },
    {
      "cell_type": "code",
      "source": [
        "webio_jupyter_extension"
      ],
      "metadata": {
        "id": "3pqM6w6Z5FCS"
      },
      "execution_count": null,
      "outputs": []
    }
  ]
}
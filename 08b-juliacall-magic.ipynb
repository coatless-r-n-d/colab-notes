{
  "nbformat": 4,
  "nbformat_minor": 0,
  "metadata": {
    "colab": {
      "provenance": [],
      "authorship_tag": "ABX9TyOjtgDbw8b9cWovu5N9cwWB",
      "include_colab_link": true
    },
    "kernelspec": {
      "name": "python3",
      "display_name": "Python 3"
    },
    "language_info": {
      "name": "python"
    }
  },
  "cells": [
    {
      "cell_type": "markdown",
      "metadata": {
        "id": "view-in-github",
        "colab_type": "text"
      },
      "source": [
        "<a href=\"https://colab.research.google.com/github/coatless-r-n-d/colab-notes/blob/main/08b-juliacall-magic.ipynb\" target=\"_parent\"><img src=\"https://colab.research.google.com/assets/colab-badge.svg\" alt=\"Open In Colab\"/></a>"
      ]
    },
    {
      "cell_type": "markdown",
      "source": [
        "## Setup Magic"
      ],
      "metadata": {
        "id": "j2FAdGnCrwrI"
      }
    },
    {
      "cell_type": "code",
      "source": [
        "!pip install -qqq juliacall\n",
        "from juliacall import Main as jl\n",
        "%load_ext juliacall.ipython"
      ],
      "metadata": {
        "colab": {
          "base_uri": "https://localhost:8080/"
        },
        "id": "Z9Nih_cEmD7M",
        "outputId": "361b26bd-86fc-424d-ef31-1fd042af069a"
      },
      "execution_count": 1,
      "outputs": [
        {
          "output_type": "stream",
          "name": "stdout",
          "text": [
            "[juliapkg] Found dependencies: /usr/local/lib/python3.10/dist-packages/juliapkg/juliapkg.json\n",
            "[juliapkg] Found dependencies: /usr/local/lib/python3.10/dist-packages/juliacall/juliapkg.json\n",
            "[juliapkg] Locating Julia ~1.6.1, ~1.7, ~1.8, ~1.9, =1.10.0, ^1.10.3\n",
            "[juliapkg] Querying Julia versions from https://julialang-s3.julialang.org/bin/versions.json\n",
            "[juliapkg] WARNING: About to install Julia 1.11.1 to /root/.julia/environments/pyjuliapkg/pyjuliapkg/install.\n",
            "[juliapkg]   If you use juliapkg in more than one environment, you are likely to\n",
            "[juliapkg]   have Julia installed in multiple locations. It is recommended to\n",
            "[juliapkg]   install JuliaUp (https://github.com/JuliaLang/juliaup) or Julia\n",
            "[juliapkg]   (https://julialang.org/downloads) yourself.\n",
            "[juliapkg] Downloading Julia from https://julialang-s3.julialang.org/bin/linux/x64/1.11/julia-1.11.1-linux-x86_64.tar.gz\n",
            "             download complete\n",
            "[juliapkg] Verifying download\n",
            "[juliapkg] Installing Julia 1.11.1 to /root/.julia/environments/pyjuliapkg/pyjuliapkg/install\n",
            "[juliapkg] Using Julia 1.11.1 at /root/.julia/environments/pyjuliapkg/pyjuliapkg/install/bin/julia\n",
            "[juliapkg] Using Julia project at /root/.julia/environments/pyjuliapkg\n",
            "[juliapkg] Installing packages:\n",
            "           julia> import Pkg\n",
            "           julia> Pkg.Registry.update()\n",
            "           julia> Pkg.add([Pkg.PackageSpec(name=\"PythonCall\", uuid=\"6099a3de-0909-46bc-b1f4-468b9a2dfc0d\")])\n",
            "           julia> Pkg.resolve()\n",
            "           julia> Pkg.precompile()\n",
            "Detected IPython. Loading juliacall extension. See https://juliapy.github.io/PythonCall.jl/stable/compat/#IPython\n"
          ]
        },
        {
          "output_type": "stream",
          "name": "stderr",
          "text": [
            "WARNING: replacing module _ipython.\n"
          ]
        }
      ]
    },
    {
      "cell_type": "markdown",
      "source": [
        "## Verify"
      ],
      "metadata": {
        "id": "MAa4WD2mrzZC"
      }
    },
    {
      "cell_type": "code",
      "execution_count": 2,
      "metadata": {
        "colab": {
          "base_uri": "https://localhost:8080/"
        },
        "id": "tp8vXwrhl8JV",
        "outputId": "01707e32-e4a7-4fed-ba83-1d505cb5c4fe"
      },
      "outputs": [
        {
          "output_type": "stream",
          "name": "stdout",
          "text": [
            "Hello from Julia!\n"
          ]
        }
      ],
      "source": [
        "%%julia\n",
        "println(\"Hello from Julia!\")"
      ]
    }
  ]
}
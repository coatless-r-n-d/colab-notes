{
  "cells": [
    {
      "cell_type": "markdown",
      "metadata": {
        "id": "view-in-github",
        "colab_type": "text"
      },
      "source": [
        "<a href=\"https://colab.research.google.com/github/coatless-r-n-d/colab-notes/blob/main/09-markitdown-python-package-demo.ipynb\" target=\"_parent\"><img src=\"https://colab.research.google.com/assets/colab-badge.svg\" alt=\"Open In Colab\"/></a>"
      ]
    },
    {
      "cell_type": "markdown",
      "metadata": {
        "id": "zmcPSc-ekcR5"
      },
      "source": [
        "# MarkItDown Tutorial\n",
        "\n",
        "This notebook demonstrates how to use the MarkItDown library to convert various document formats into markdown text suitable for LLMs. We'll cover different types of inputs and show the conversion results."
      ]
    },
    {
      "cell_type": "markdown",
      "metadata": {
        "id": "mVayQdlpkcR6"
      },
      "source": [
        "## Setup\n",
        "\n",
        "First, let's install and import the necessary packages:"
      ]
    },
    {
      "cell_type": "code",
      "execution_count": null,
      "metadata": {
        "colab": {
          "base_uri": "https://localhost:8080/"
        },
        "id": "0QmQb7A_kcR6",
        "outputId": "9b2a596d-34e3-42bf-8eb5-bb106767a306"
      },
      "source": [
        "!pip install markitdown fpdf"
      ],
      "outputs": [
        {
          "output_type": "stream",
          "name": "stdout",
          "text": [
            "Collecting markitdown\n",
            "  Downloading markitdown-0.0.1a2-py3-none-any.whl.metadata (3.3 kB)\n",
            "Collecting fpdf\n",
            "  Downloading fpdf-1.7.2.tar.gz (39 kB)\n",
            "  Preparing metadata (setup.py) ... \u001b[?25l\u001b[?25hdone\n",
            "Requirement already satisfied: beautifulsoup4 in /usr/local/lib/python3.10/dist-packages (from markitdown) (4.12.3)\n",
            "Collecting mammoth (from markitdown)\n",
            "  Downloading mammoth-1.8.0-py2.py3-none-any.whl.metadata (24 kB)\n",
            "Collecting markdownify (from markitdown)\n",
            "  Downloading markdownify-0.14.1-py3-none-any.whl.metadata (8.5 kB)\n",
            "Requirement already satisfied: numpy in /usr/local/lib/python3.10/dist-packages (from markitdown) (1.26.4)\n",
            "Requirement already satisfied: openpyxl in /usr/local/lib/python3.10/dist-packages (from markitdown) (3.1.5)\n",
            "Requirement already satisfied: pandas in /usr/local/lib/python3.10/dist-packages (from markitdown) (2.2.2)\n",
            "Collecting pathvalidate (from markitdown)\n",
            "  Downloading pathvalidate-3.2.1-py3-none-any.whl.metadata (12 kB)\n",
            "Collecting pdfminer-six (from markitdown)\n",
            "  Downloading pdfminer.six-20240706-py3-none-any.whl.metadata (4.1 kB)\n",
            "Collecting puremagic (from markitdown)\n",
            "  Downloading puremagic-1.28-py3-none-any.whl.metadata (5.8 kB)\n",
            "Collecting pydub (from markitdown)\n",
            "  Downloading pydub-0.25.1-py2.py3-none-any.whl.metadata (1.4 kB)\n",
            "Collecting python-pptx (from markitdown)\n",
            "  Downloading python_pptx-1.0.2-py3-none-any.whl.metadata (2.5 kB)\n",
            "Requirement already satisfied: requests in /usr/local/lib/python3.10/dist-packages (from markitdown) (2.32.3)\n",
            "Collecting speechrecognition (from markitdown)\n",
            "  Downloading SpeechRecognition-3.12.0-py3-none-any.whl.metadata (30 kB)\n",
            "Collecting youtube-transcript-api (from markitdown)\n",
            "  Downloading youtube_transcript_api-0.6.3-py3-none-any.whl.metadata (17 kB)\n",
            "Requirement already satisfied: soupsieve>1.2 in /usr/local/lib/python3.10/dist-packages (from beautifulsoup4->markitdown) (2.6)\n",
            "Collecting cobble<0.2,>=0.1.3 (from mammoth->markitdown)\n",
            "  Downloading cobble-0.1.4-py3-none-any.whl.metadata (2.7 kB)\n",
            "Requirement already satisfied: six<2,>=1.15 in /usr/local/lib/python3.10/dist-packages (from markdownify->markitdown) (1.17.0)\n",
            "Requirement already satisfied: et-xmlfile in /usr/local/lib/python3.10/dist-packages (from openpyxl->markitdown) (2.0.0)\n",
            "Requirement already satisfied: python-dateutil>=2.8.2 in /usr/local/lib/python3.10/dist-packages (from pandas->markitdown) (2.8.2)\n",
            "Requirement already satisfied: pytz>=2020.1 in /usr/local/lib/python3.10/dist-packages (from pandas->markitdown) (2024.2)\n",
            "Requirement already satisfied: tzdata>=2022.7 in /usr/local/lib/python3.10/dist-packages (from pandas->markitdown) (2024.2)\n",
            "Requirement already satisfied: charset-normalizer>=2.0.0 in /usr/local/lib/python3.10/dist-packages (from pdfminer-six->markitdown) (3.4.0)\n",
            "Requirement already satisfied: cryptography>=36.0.0 in /usr/local/lib/python3.10/dist-packages (from pdfminer-six->markitdown) (43.0.3)\n",
            "Requirement already satisfied: Pillow>=3.3.2 in /usr/local/lib/python3.10/dist-packages (from python-pptx->markitdown) (11.0.0)\n",
            "Collecting XlsxWriter>=0.5.7 (from python-pptx->markitdown)\n",
            "  Downloading XlsxWriter-3.2.0-py3-none-any.whl.metadata (2.6 kB)\n",
            "Requirement already satisfied: lxml>=3.1.0 in /usr/local/lib/python3.10/dist-packages (from python-pptx->markitdown) (5.3.0)\n",
            "Requirement already satisfied: typing-extensions>=4.9.0 in /usr/local/lib/python3.10/dist-packages (from python-pptx->markitdown) (4.12.2)\n",
            "Requirement already satisfied: idna<4,>=2.5 in /usr/local/lib/python3.10/dist-packages (from requests->markitdown) (3.10)\n",
            "Requirement already satisfied: urllib3<3,>=1.21.1 in /usr/local/lib/python3.10/dist-packages (from requests->markitdown) (2.2.3)\n",
            "Requirement already satisfied: certifi>=2017.4.17 in /usr/local/lib/python3.10/dist-packages (from requests->markitdown) (2024.8.30)\n",
            "Requirement already satisfied: defusedxml<0.8.0,>=0.7.1 in /usr/local/lib/python3.10/dist-packages (from youtube-transcript-api->markitdown) (0.7.1)\n",
            "Requirement already satisfied: cffi>=1.12 in /usr/local/lib/python3.10/dist-packages (from cryptography>=36.0.0->pdfminer-six->markitdown) (1.17.1)\n",
            "Requirement already satisfied: pycparser in /usr/local/lib/python3.10/dist-packages (from cffi>=1.12->cryptography>=36.0.0->pdfminer-six->markitdown) (2.22)\n",
            "Downloading markitdown-0.0.1a2-py3-none-any.whl (13 kB)\n",
            "Downloading mammoth-1.8.0-py2.py3-none-any.whl (52 kB)\n",
            "\u001b[2K   \u001b[90m━━━━━━━━━━━━━━━━━━━━━━━━━━━━━━━━━━━━━━━━\u001b[0m \u001b[32m52.3/52.3 kB\u001b[0m \u001b[31m3.5 MB/s\u001b[0m eta \u001b[36m0:00:00\u001b[0m\n",
            "\u001b[?25hDownloading markdownify-0.14.1-py3-none-any.whl (11 kB)\n",
            "Downloading pathvalidate-3.2.1-py3-none-any.whl (23 kB)\n",
            "Downloading pdfminer.six-20240706-py3-none-any.whl (5.6 MB)\n",
            "\u001b[2K   \u001b[90m━━━━━━━━━━━━━━━━━━━━━━━━━━━━━━━━━━━━━━━━\u001b[0m \u001b[32m5.6/5.6 MB\u001b[0m \u001b[31m40.6 MB/s\u001b[0m eta \u001b[36m0:00:00\u001b[0m\n",
            "\u001b[?25hDownloading puremagic-1.28-py3-none-any.whl (43 kB)\n",
            "\u001b[2K   \u001b[90m━━━━━━━━━━━━━━━━━━━━━━━━━━━━━━━━━━━━━━━━\u001b[0m \u001b[32m43.2/43.2 kB\u001b[0m \u001b[31m1.6 MB/s\u001b[0m eta \u001b[36m0:00:00\u001b[0m\n",
            "\u001b[?25hDownloading pydub-0.25.1-py2.py3-none-any.whl (32 kB)\n",
            "Downloading python_pptx-1.0.2-py3-none-any.whl (472 kB)\n",
            "\u001b[2K   \u001b[90m━━━━━━━━━━━━━━━━━━━━━━━━━━━━━━━━━━━━━━━━\u001b[0m \u001b[32m472.8/472.8 kB\u001b[0m \u001b[31m14.1 MB/s\u001b[0m eta \u001b[36m0:00:00\u001b[0m\n",
            "\u001b[?25hDownloading SpeechRecognition-3.12.0-py3-none-any.whl (32.8 MB)\n",
            "\u001b[2K   \u001b[90m━━━━━━━━━━━━━━━━━━━━━━━━━━━━━━━━━━━━━━━━\u001b[0m \u001b[32m32.8/32.8 MB\u001b[0m \u001b[31m23.4 MB/s\u001b[0m eta \u001b[36m0:00:00\u001b[0m\n",
            "\u001b[?25hDownloading youtube_transcript_api-0.6.3-py3-none-any.whl (622 kB)\n",
            "\u001b[2K   \u001b[90m━━━━━━━━━━━━━━━━━━━━━━━━━━━━━━━━━━━━━━━━\u001b[0m \u001b[32m622.3/622.3 kB\u001b[0m \u001b[31m30.3 MB/s\u001b[0m eta \u001b[36m0:00:00\u001b[0m\n",
            "\u001b[?25hDownloading cobble-0.1.4-py3-none-any.whl (4.0 kB)\n",
            "Downloading XlsxWriter-3.2.0-py3-none-any.whl (159 kB)\n",
            "\u001b[2K   \u001b[90m━━━━━━━━━━━━━━━━━━━━━━━━━━━━━━━━━━━━━━━━\u001b[0m \u001b[32m159.9/159.9 kB\u001b[0m \u001b[31m8.6 MB/s\u001b[0m eta \u001b[36m0:00:00\u001b[0m\n",
            "\u001b[?25hBuilding wheels for collected packages: fpdf\n",
            "  Building wheel for fpdf (setup.py) ... \u001b[?25l\u001b[?25hdone\n",
            "  Created wheel for fpdf: filename=fpdf-1.7.2-py2.py3-none-any.whl size=40704 sha256=3c9bb18d9bd4e84c55a9d796c62391d85de13516c4c99a3b83b855890376e168\n",
            "  Stored in directory: /root/.cache/pip/wheels/f9/95/ba/f418094659025eb9611f17cbcaf2334236bf39a0c3453ea455\n",
            "Successfully built fpdf\n",
            "Installing collected packages: pydub, puremagic, fpdf, XlsxWriter, speechrecognition, pathvalidate, cobble, youtube-transcript-api, python-pptx, markdownify, mammoth, pdfminer-six, markitdown\n",
            "Successfully installed XlsxWriter-3.2.0 cobble-0.1.4 fpdf-1.7.2 mammoth-1.8.0 markdownify-0.14.1 markitdown-0.0.1a2 pathvalidate-3.2.1 pdfminer-six-20240706 puremagic-1.28 pydub-0.25.1 python-pptx-1.0.2 speechrecognition-3.12.0 youtube-transcript-api-0.6.3\n"
          ]
        }
      ]
    },
    {
      "cell_type": "markdown",
      "source": [
        "Update the copy of `dox` on Google Colab:"
      ],
      "metadata": {
        "id": "uZ0sGwn4mdVt"
      }
    },
    {
      "cell_type": "code",
      "source": [
        "!pip install --upgrade python-docx"
      ],
      "metadata": {
        "colab": {
          "base_uri": "https://localhost:8080/"
        },
        "id": "-DxhCUQ0lAV_",
        "outputId": "6ea9768d-91cf-4fc7-a805-664c6bf94d8b"
      },
      "execution_count": null,
      "outputs": [
        {
          "output_type": "stream",
          "name": "stdout",
          "text": [
            "Requirement already satisfied: python-docx in /usr/local/lib/python3.10/dist-packages (1.1.2)\n",
            "Requirement already satisfied: lxml>=3.1.0 in /usr/local/lib/python3.10/dist-packages (from python-docx) (5.3.0)\n",
            "Requirement already satisfied: typing-extensions>=4.9.0 in /usr/local/lib/python3.10/dist-packages (from python-docx) (4.12.2)\n"
          ]
        }
      ]
    },
    {
      "cell_type": "markdown",
      "source": [],
      "metadata": {
        "id": "Ch-iDarsmfvf"
      }
    },
    {
      "cell_type": "code",
      "execution_count": null,
      "metadata": {
        "id": "CJrPqW-akcR6"
      },
      "source": [
        "from markitdown import MarkItDown\n",
        "import requests\n",
        "import tempfile\n",
        "import os"
      ],
      "outputs": []
    },
    {
      "cell_type": "markdown",
      "metadata": {
        "id": "sdWeNc3UkcR7"
      },
      "source": [
        "## Basic Usage\n",
        "\n",
        "Let's create a MarkItDown instance that we'll use throughout this tutorial:"
      ]
    },
    {
      "cell_type": "code",
      "execution_count": null,
      "metadata": {
        "id": "O2FMEb5CkcR7"
      },
      "source": [
        "converter = MarkItDown()"
      ],
      "outputs": []
    },
    {
      "cell_type": "markdown",
      "metadata": {
        "id": "n_BGqMEskcR7"
      },
      "source": [
        "## Converting Web Content\n",
        "\n",
        "### HTML Pages\n",
        "\n",
        "Let's convert a simple webpage to markdown:"
      ]
    },
    {
      "cell_type": "code",
      "execution_count": null,
      "metadata": {
        "colab": {
          "base_uri": "https://localhost:8080/"
        },
        "id": "dlkfM6lNkcR7",
        "outputId": "8a6b8b86-d15e-481b-84b5-7c2ae15d0cad"
      },
      "source": [
        "# Convert a webpage\n",
        "url = \"https://example.com\"\n",
        "result = converter.convert(url)\n",
        "print(result.text_content[:500] + \"...\")"
      ],
      "outputs": [
        {
          "output_type": "stream",
          "name": "stdout",
          "text": [
            "\n",
            "# Example Domain\n",
            "\n",
            "This domain is for use in illustrative examples in documents. You may use this\n",
            "domain in literature without prior coordination or asking for permission.\n",
            "\n",
            "[More information...](https://www.iana.org/domains/example)\n",
            "\n",
            "...\n"
          ]
        }
      ]
    },
    {
      "cell_type": "markdown",
      "metadata": {
        "id": "gMr9B1wlkcR7"
      },
      "source": [
        "### Wikipedia Articles\n",
        "\n",
        "MarkItDown has special handling for Wikipedia pages:"
      ]
    },
    {
      "cell_type": "code",
      "execution_count": null,
      "metadata": {
        "colab": {
          "base_uri": "https://localhost:8080/"
        },
        "id": "zIdsFjz3kcR8",
        "outputId": "341b3390-b224-4d84-ee40-4e4989a8b060"
      },
      "source": [
        "wiki_url = \"https://en.wikipedia.org/wiki/Markdown\"\n",
        "result = converter.convert(wiki_url)\n",
        "print(result.text_content[:500] + \"...\")"
      ],
      "outputs": [
        {
          "output_type": "stream",
          "name": "stdout",
          "text": [
            "# Markdown\n",
            "\n",
            "Plain text markup language\n",
            "For the marketing term, see [Price markdown](/wiki/Price_markdown \"Price markdown\").\n",
            "\n",
            "Markdown\n",
            "|  | |\n",
            "| --- | --- |\n",
            "| [Filename extensions](/wiki/Filename_extension \"Filename extension\") | `.md`, `.markdown`[[1]](#cite_note-df-2022-1)[[2]](#cite_note-rfc7763-2) |\n",
            "| [Internet media type](/wiki/Media_type \"Media type\") | `text/markdown`[[2]](#cite_note-rfc7763-2) |\n",
            "| [Uniform Type Identifier (UTI)](/wiki/Uniform_Type_Identifier \"Uniform Type Identifier\") | `n...\n"
          ]
        }
      ]
    },
    {
      "cell_type": "markdown",
      "metadata": {
        "id": "epiHr5TkkcR8"
      },
      "source": [
        "## Working with Local Files\n",
        "\n",
        "### PDF Files\n",
        "\n",
        "Let's create a sample PDF and convert it:"
      ]
    },
    {
      "cell_type": "code",
      "execution_count": null,
      "metadata": {
        "colab": {
          "base_uri": "https://localhost:8080/"
        },
        "id": "WK9B7gWXkcR8",
        "outputId": "a9abca8a-4b17-4813-a681-c25620517cab"
      },
      "source": [
        "# Create a temporary PDF file\n",
        "from fpdf import FPDF\n",
        "\n",
        "pdf = FPDF()\n",
        "pdf.add_page()\n",
        "pdf.set_font(\"Arial\", size=12)\n",
        "pdf.cell(200, 10, txt=\"Test PDF Document\", ln=1, align=\"C\")\n",
        "pdf.multi_cell(0, 10, txt=\"This is a sample PDF document created for testing MarkItDown conversion.\")\n",
        "\n",
        "with tempfile.NamedTemporaryFile(suffix='.pdf', delete=False) as tmp:\n",
        "    pdf_path = tmp.name\n",
        "    pdf.output(pdf_path)\n",
        "\n",
        "# Convert the PDF\n",
        "result = converter.convert(pdf_path)\n",
        "print(result.text_content)\n",
        "\n",
        "# Clean up\n",
        "os.unlink(pdf_path)"
      ],
      "outputs": [
        {
          "output_type": "stream",
          "name": "stdout",
          "text": [
            "This is a sample PDF document created for testing MarkItDown conversion.\n",
            "\n",
            "Test PDF Document\n",
            "\n",
            "\n"
          ]
        }
      ]
    },
    {
      "cell_type": "markdown",
      "metadata": {
        "id": "x90A9SInkcR8"
      },
      "source": [
        "### Word Documents (DOCX)\n",
        "\n",
        "Let's create and convert a Word document:"
      ]
    },
    {
      "cell_type": "code",
      "execution_count": null,
      "metadata": {
        "colab": {
          "base_uri": "https://localhost:8080/"
        },
        "id": "1IIvlXdGkcR8",
        "outputId": "ff93e1f4-e1f6-4bcc-f76c-1a70e07adf08"
      },
      "source": [
        "from docx import Document\n",
        "\n",
        "# Create a sample Word document\n",
        "doc = Document()\n",
        "doc.add_heading('Sample Document', 0)\n",
        "doc.add_paragraph('This is a paragraph in the document.')\n",
        "doc.add_heading('Section 1', level=1)\n",
        "doc.add_paragraph('Content in section 1.')\n",
        "\n",
        "with tempfile.NamedTemporaryFile(suffix='.docx', delete=False) as tmp:\n",
        "    docx_path = tmp.name\n",
        "    doc.save(docx_path)\n",
        "\n",
        "# Convert the document\n",
        "result = converter.convert(docx_path)\n",
        "print(result.text_content)\n",
        "\n",
        "# Clean up\n",
        "os.unlink(docx_path)"
      ],
      "outputs": [
        {
          "output_type": "stream",
          "name": "stdout",
          "text": [
            "\n",
            "\n",
            "Sample Document\n",
            "\n",
            "This is a paragraph in the document.\n",
            "\n",
            "# Section 1\n",
            "\n",
            "Content in section 1.\n",
            "\n",
            "\n"
          ]
        }
      ]
    },
    {
      "cell_type": "markdown",
      "source": [
        "## Comments\n",
        "\n"
      ],
      "metadata": {
        "id": "wvnb-bzVrD9f"
      }
    },
    {
      "cell_type": "markdown",
      "source": [
        "Next, let's explore if we can extract comments from the word document."
      ],
      "metadata": {
        "id": "27waV9YRxTlj"
      }
    },
    {
      "cell_type": "code",
      "source": [
        "from docx import Document\n",
        "from markitdown import MarkItDown\n",
        "import docx\n",
        "from docx.oxml.shared import qn, OxmlElement\n",
        "\n",
        "def add_comment(doc, paragraph, comment_text):\n",
        "    # Get the paragraph element\n",
        "    p = paragraph._p\n",
        "\n",
        "    # Create comment\n",
        "    comment = OxmlElement(\"w:comment\")\n",
        "    comment.set(qn(\"w:id\"), \"1\")\n",
        "    comment.set(qn(\"w:author\"), \"Author\")\n",
        "    comment.set(qn(\"w:date\"), \"2024-01-01T12:00:00\")\n",
        "    comment.set(qn(\"w:initials\"), \"A\")\n",
        "\n",
        "    # Add comment text\n",
        "    comment_p = OxmlElement(\"w:p\")\n",
        "    comment_r = OxmlElement(\"w:r\")\n",
        "    comment_t = OxmlElement(\"w:t\")\n",
        "    comment_t.text = comment_text\n",
        "    comment_r.append(comment_t)\n",
        "    comment_p.append(comment_r)\n",
        "    comment.append(comment_p)\n",
        "\n",
        "    # Make sure we have a comments part\n",
        "    if not doc.part.comments_part:\n",
        "        doc.part.add_comments_part()\n",
        "\n",
        "    # Add comment to document\n",
        "    doc.part.comments_part._element.append(comment)\n",
        "\n",
        "    # Create comment range start\n",
        "    comment_start = OxmlElement(\"w:commentRangeStart\")\n",
        "    comment_start.set(qn(\"w:id\"), \"1\")\n",
        "    p.addprevious(comment_start)\n",
        "\n",
        "    # Create comment reference\n",
        "    comment_ref = OxmlElement(\"w:commentReference\")\n",
        "    comment_ref.set(qn(\"w:id\"), \"1\")\n",
        "    r = p.find(qn(\"w:r\"))\n",
        "    if r is not None:\n",
        "        r.append(comment_ref)\n",
        "\n",
        "    # Create comment range end\n",
        "    comment_end = OxmlElement(\"w:commentRangeEnd\")\n",
        "    comment_end.set(qn(\"w:id\"), \"1\")\n",
        "    p.addnext(comment_end)\n",
        "\n",
        "# Create document\n",
        "doc = Document()\n",
        "doc.add_heading('Document with Comments', 0)\n",
        "p = doc.add_paragraph('This is the main text. It should have a comment attached.')\n",
        "\n",
        "# Add comment\n",
        "add_comment(doc, p, \"This is a comment on the paragraph.\")\n",
        "\n",
        "# Save document\n",
        "doc.save('test_with_comments2.docx')\n",
        "\n",
        "# Convert and print\n",
        "converter = MarkItDown()\n",
        "result = converter.convert('test_with_comments2.docx')\n",
        "print(\"Converted content:\")\n",
        "print(result.text_content)"
      ],
      "metadata": {
        "colab": {
          "base_uri": "https://localhost:8080/"
        },
        "id": "__gVXra4rCdK",
        "outputId": "feb6c080-3ed9-437f-cb14-2220c949a74f"
      },
      "execution_count": null,
      "outputs": [
        {
          "output_type": "stream",
          "name": "stdout",
          "text": [
            "Converted content:\n",
            "\n",
            "\n",
            "Document with Comments\n",
            "\n",
            "This is the main text. It should have a comment attached.\n",
            "\n",
            "\n"
          ]
        }
      ]
    },
    {
      "cell_type": "markdown",
      "source": [
        "Unfortunately, it does not look like so! We're keeping on eye on this issue in:\n",
        "\n"
      ],
      "metadata": {
        "id": "dkbfXy4Yxa8K"
      }
    },
    {
      "cell_type": "markdown",
      "metadata": {
        "id": "BLIzrzfmkcR8"
      },
      "source": [
        "### Excel Spreadsheets (XLSX)\n",
        "\n",
        "Now let's create and convert an Excel spreadsheet:"
      ]
    },
    {
      "cell_type": "code",
      "execution_count": null,
      "metadata": {
        "colab": {
          "base_uri": "https://localhost:8080/"
        },
        "id": "tuyW7tRtkcR8",
        "outputId": "fd9d1e7c-131d-43fa-c5e6-2aee60a5ce36"
      },
      "source": [
        "import pandas as pd\n",
        "\n",
        "# Create sample data\n",
        "df = pd.DataFrame({\n",
        "    'Name': ['John', 'Jane', 'Bob'],\n",
        "    'Age': [25, 30, 35],\n",
        "    'City': ['New York', 'London', 'Paris']\n",
        "})\n",
        "\n",
        "# Save to Excel\n",
        "with tempfile.NamedTemporaryFile(suffix='.xlsx', delete=False) as tmp:\n",
        "    xlsx_path = tmp.name\n",
        "    df.to_excel(xlsx_path, index=False)\n",
        "\n",
        "# Convert the spreadsheet\n",
        "result = converter.convert(xlsx_path)\n",
        "print(result.text_content)\n",
        "\n",
        "# Clean up\n",
        "os.unlink(xlsx_path)"
      ],
      "outputs": [
        {
          "output_type": "stream",
          "name": "stdout",
          "text": [
            "## Sheet1\n",
            "| Name | Age | City |\n",
            "| --- | --- | --- |\n",
            "| John | 25 | New York |\n",
            "| Jane | 30 | London |\n",
            "| Bob | 35 | Paris |\n"
          ]
        }
      ]
    },
    {
      "cell_type": "markdown",
      "metadata": {
        "id": "k6M-sjfBkcR8"
      },
      "source": [
        "## Stream Conversion\n",
        "\n",
        "MarkItDown can also convert from input streams:"
      ]
    },
    {
      "cell_type": "code",
      "execution_count": null,
      "metadata": {
        "colab": {
          "base_uri": "https://localhost:8080/"
        },
        "id": "pibvW_0ZkcR9",
        "outputId": "27c0689b-87a5-47e5-f5db-d888d2dc9f98"
      },
      "source": [
        "from io import BytesIO\n",
        "\n",
        "# Create a sample text stream\n",
        "text = \"Hello, this is a test stream!\\nIt has multiple lines.\\n\"\n",
        "stream = BytesIO(text.encode('utf-8'))\n",
        "\n",
        "# Convert the stream, specifying the file extension\n",
        "result = converter.convert_stream(stream, file_extension='.txt')  # Note the added file_extension parameter\n",
        "print(result.text_content)"
      ],
      "outputs": [
        {
          "output_type": "stream",
          "name": "stdout",
          "text": [
            "Hello, this is a test stream!\n",
            "It has multiple lines.\n",
            "\n"
          ]
        }
      ]
    },
    {
      "cell_type": "markdown",
      "metadata": {
        "id": "HeiWx4f-kcR9"
      },
      "source": [
        "## Error Handling\n",
        "\n",
        "Let's see how MarkItDown handles errors:"
      ]
    },
    {
      "cell_type": "code",
      "execution_count": null,
      "metadata": {
        "colab": {
          "base_uri": "https://localhost:8080/"
        },
        "id": "p8IGGgXhkcR9",
        "outputId": "8c484d90-080f-4b26-e535-6ec8cfd91562"
      },
      "source": [
        "try:\n",
        "    # Try to convert a non-existent file\n",
        "    result = converter.convert('nonexistent.pdf')\n",
        "except Exception as e:\n",
        "    print(f\"Error: {str(e)}\")"
      ],
      "outputs": [
        {
          "output_type": "stream",
          "name": "stdout",
          "text": [
            "Error: local variable 'res' referenced before assignment\n"
          ]
        }
      ]
    },
    {
      "cell_type": "markdown",
      "metadata": {
        "id": "r5YWpqTqkcR9"
      },
      "source": [
        "## Working with Optional Features\n",
        "\n"
      ]
    },
    {
      "cell_type": "markdown",
      "source": [
        "## CLI Usage"
      ],
      "metadata": {
        "id": "7iE06hDixlwx"
      }
    },
    {
      "cell_type": "markdown",
      "source": [
        "First, we need to create a sample document:"
      ],
      "metadata": {
        "id": "G1Bb8F5Mx8Kl"
      }
    },
    {
      "cell_type": "code",
      "source": [
        "# Create a sample DOCX file\n",
        "import docx\n",
        "doc = docx.Document()\n",
        "doc.add_heading('Sample Document')\n",
        "doc.add_paragraph('This is a test document for trying out the markitdown CLI tool.')\n",
        "doc.save('sample.docx')"
      ],
      "metadata": {
        "id": "yICiMDLpxrE-"
      },
      "execution_count": 13,
      "outputs": []
    },
    {
      "cell_type": "markdown",
      "source": [
        "From there, we can use `{markitdown}` CLI with:"
      ],
      "metadata": {
        "id": "MEBFTe6fx7iK"
      }
    },
    {
      "cell_type": "code",
      "source": [
        "%%bash\n",
        "# Convert a file:\n",
        "markitdown sample.docx\n",
        "\n",
        "# Convert using pipe:\n",
        "cat sample.docx | markitdown\n",
        "\n",
        "# Convert using input redirection:\n",
        "markitdown < sample.docx"
      ],
      "metadata": {
        "colab": {
          "base_uri": "https://localhost:8080/"
        },
        "id": "K2_Ph5sZxuxO",
        "outputId": "f6bb1ce8-d8fb-4c8f-c8c4-42ff418e97c8"
      },
      "execution_count": 12,
      "outputs": [
        {
          "output_type": "stream",
          "name": "stdout",
          "text": [
            "\n",
            "# Sample Document\n",
            "\n",
            "This is a test document for trying out the markitdown CLI tool.\n",
            "\n",
            "\n",
            "\n",
            "# Sample Document\n",
            "\n",
            "This is a test document for trying out the markitdown CLI tool.\n",
            "\n",
            "\n",
            "\n",
            "# Sample Document\n",
            "\n",
            "This is a test document for trying out the markitdown CLI tool.\n",
            "\n",
            "\n"
          ]
        }
      ]
    },
    {
      "cell_type": "markdown",
      "source": [
        "### Using a Custom Requests Session\n",
        "\n",
        "You can use a custom requests session with custom headers:"
      ],
      "metadata": {
        "id": "gu3KFT7cxnlC"
      }
    },
    {
      "cell_type": "code",
      "execution_count": null,
      "metadata": {
        "colab": {
          "base_uri": "https://localhost:8080/"
        },
        "id": "2n4OhHVtkcR9",
        "outputId": "785a3140-e3bf-4abd-cfaa-fcbdcdde9517"
      },
      "source": [
        "session = requests.Session()\n",
        "session.headers.update({\n",
        "    'User-Agent': 'MarkItDown Tutorial/1.0'\n",
        "})\n",
        "\n",
        "converter_with_session = MarkItDown(requests_session=session)\n",
        "result = converter_with_session.convert('https://example.com')\n",
        "print(result.text_content[:200] + \"...\")"
      ],
      "outputs": [
        {
          "output_type": "stream",
          "name": "stdout",
          "text": [
            "\n",
            "# Example Domain\n",
            "\n",
            "This domain is for use in illustrative examples in documents. You may use this\n",
            "domain in literature without prior coordination or asking for permission.\n",
            "\n",
            "[More information...](https...\n"
          ]
        }
      ]
    },
    {
      "cell_type": "markdown",
      "metadata": {
        "id": "lldvoQMHkcR9"
      },
      "source": [
        "## Cleanup\n",
        "\n",
        "Remember to properly close and clean up any resources:"
      ]
    },
    {
      "cell_type": "code",
      "execution_count": null,
      "metadata": {
        "id": "UUWJRnjtkcR9"
      },
      "source": [
        "# Close the requests session\n",
        "session.close()"
      ],
      "outputs": []
    },
    {
      "cell_type": "markdown",
      "metadata": {
        "id": "brWDDsj9kcR9"
      },
      "source": [
        "## Using with LLMs\n",
        "\n",
        "Here's an example of how you might use MarkItDown with an LLM:"
      ]
    },
    {
      "cell_type": "code",
      "execution_count": null,
      "metadata": {
        "colab": {
          "base_uri": "https://localhost:8080/",
          "height": 389
        },
        "id": "LYbAGjWSkcR9",
        "outputId": "a5ed0161-9656-4e5c-906d-df38e3f0ff08"
      },
      "source": [
        "from markitdown import MarkItDown\n",
        "from openai import OpenAI\n",
        "\n",
        "client = OpenAI()\n",
        "md = MarkItDown(mlm_client=client, mlm_model=\"gpt-4o\")\n",
        "result = md.convert(\"example.jpg\")\n",
        "print(result.text_content)"
      ],
      "outputs": [
        {
          "output_type": "error",
          "ename": "OpenAIError",
          "evalue": "The api_key client option must be set either by passing api_key to the client or by setting the OPENAI_API_KEY environment variable",
          "traceback": [
            "\u001b[0;31m---------------------------------------------------------------------------\u001b[0m",
            "\u001b[0;31mOpenAIError\u001b[0m                               Traceback (most recent call last)",
            "\u001b[0;32m<ipython-input-14-1441be04f012>\u001b[0m in \u001b[0;36m<cell line: 4>\u001b[0;34m()\u001b[0m\n\u001b[1;32m      2\u001b[0m \u001b[0;32mfrom\u001b[0m \u001b[0mopenai\u001b[0m \u001b[0;32mimport\u001b[0m \u001b[0mOpenAI\u001b[0m\u001b[0;34m\u001b[0m\u001b[0;34m\u001b[0m\u001b[0m\n\u001b[1;32m      3\u001b[0m \u001b[0;34m\u001b[0m\u001b[0m\n\u001b[0;32m----> 4\u001b[0;31m \u001b[0mclient\u001b[0m \u001b[0;34m=\u001b[0m \u001b[0mOpenAI\u001b[0m\u001b[0;34m(\u001b[0m\u001b[0;34m)\u001b[0m\u001b[0;34m\u001b[0m\u001b[0;34m\u001b[0m\u001b[0m\n\u001b[0m\u001b[1;32m      5\u001b[0m \u001b[0mmd\u001b[0m \u001b[0;34m=\u001b[0m \u001b[0mMarkItDown\u001b[0m\u001b[0;34m(\u001b[0m\u001b[0mmlm_client\u001b[0m\u001b[0;34m=\u001b[0m\u001b[0mclient\u001b[0m\u001b[0;34m,\u001b[0m \u001b[0mmlm_model\u001b[0m\u001b[0;34m=\u001b[0m\u001b[0;34m\"gpt-4o\"\u001b[0m\u001b[0;34m)\u001b[0m\u001b[0;34m\u001b[0m\u001b[0;34m\u001b[0m\u001b[0m\n\u001b[1;32m      6\u001b[0m \u001b[0mresult\u001b[0m \u001b[0;34m=\u001b[0m \u001b[0mmd\u001b[0m\u001b[0;34m.\u001b[0m\u001b[0mconvert\u001b[0m\u001b[0;34m(\u001b[0m\u001b[0;34m\"example.jpg\"\u001b[0m\u001b[0;34m)\u001b[0m\u001b[0;34m\u001b[0m\u001b[0;34m\u001b[0m\u001b[0m\n",
            "\u001b[0;32m/usr/local/lib/python3.10/dist-packages/openai/_client.py\u001b[0m in \u001b[0;36m__init__\u001b[0;34m(self, api_key, organization, project, base_url, timeout, max_retries, default_headers, default_query, http_client, _strict_response_validation)\u001b[0m\n\u001b[1;32m    103\u001b[0m             \u001b[0mapi_key\u001b[0m \u001b[0;34m=\u001b[0m \u001b[0mos\u001b[0m\u001b[0;34m.\u001b[0m\u001b[0menviron\u001b[0m\u001b[0;34m.\u001b[0m\u001b[0mget\u001b[0m\u001b[0;34m(\u001b[0m\u001b[0;34m\"OPENAI_API_KEY\"\u001b[0m\u001b[0;34m)\u001b[0m\u001b[0;34m\u001b[0m\u001b[0;34m\u001b[0m\u001b[0m\n\u001b[1;32m    104\u001b[0m         \u001b[0;32mif\u001b[0m \u001b[0mapi_key\u001b[0m \u001b[0;32mis\u001b[0m \u001b[0;32mNone\u001b[0m\u001b[0;34m:\u001b[0m\u001b[0;34m\u001b[0m\u001b[0;34m\u001b[0m\u001b[0m\n\u001b[0;32m--> 105\u001b[0;31m             raise OpenAIError(\n\u001b[0m\u001b[1;32m    106\u001b[0m                 \u001b[0;34m\"The api_key client option must be set either by passing api_key to the client or by setting the OPENAI_API_KEY environment variable\"\u001b[0m\u001b[0;34m\u001b[0m\u001b[0;34m\u001b[0m\u001b[0m\n\u001b[1;32m    107\u001b[0m             )\n",
            "\u001b[0;31mOpenAIError\u001b[0m: The api_key client option must be set either by passing api_key to the client or by setting the OPENAI_API_KEY environment variable"
          ]
        }
      ]
    },
    {
      "cell_type": "markdown",
      "metadata": {
        "id": "Rbrem793kcR9"
      },
      "source": [
        "## Conclusion\n",
        "\n",
        "So, we've seen how `MarkItDown` is able to turn files into text that LLMs can understand. This is exciting as we can now build document Q&A systems, analyze research papers and legal documents, extract text from presentations, process images and audio recordings, and so so much more.\n",
        "\n",
        "\n",
        "Stay up to date with the project over at <https://github.com/microsoft/markitdown>"
      ]
    }
  ],
  "metadata": {
    "kernelspec": {
      "display_name": "Python 3",
      "language": "python",
      "name": "python3"
    },
    "language_info": {
      "codemirror_mode": {
        "name": "ipython",
        "version": 3
      },
      "file_extension": ".py",
      "mimetype": "text/x-python",
      "name": "python",
      "nbconvert_exporter": "python",
      "pygments_lexer": "ipython3",
      "version": "3.8.0"
    },
    "colab": {
      "provenance": [],
      "include_colab_link": true
    }
  },
  "nbformat": 4,
  "nbformat_minor": 0
}
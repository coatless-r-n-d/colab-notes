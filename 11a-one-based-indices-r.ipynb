{
  "nbformat": 4,
  "nbformat_minor": 0,
  "metadata": {
    "colab": {
      "provenance": [],
      "authorship_tag": "ABX9TyNrJBc5MTbqTcxM7v7eE5ks",
      "include_colab_link": true
    },
    "kernelspec": {
      "name": "ir",
      "display_name": "R"
    },
    "language_info": {
      "name": "R"
    }
  },
  "cells": [
    {
      "cell_type": "markdown",
      "metadata": {
        "id": "view-in-github",
        "colab_type": "text"
      },
      "source": [
        "<a href=\"https://colab.research.google.com/github/coatless-r-n-d/colab-notes/blob/main/11a-one-based-indices-r.ipynb\" target=\"_parent\"><img src=\"https://colab.research.google.com/assets/colab-badge.svg\" alt=\"Open In Colab\"/></a>"
      ]
    },
    {
      "cell_type": "code",
      "execution_count": 1,
      "metadata": {
        "colab": {
          "base_uri": "https://localhost:8080/",
          "height": 69
        },
        "id": "ZbKI-9ixNbJO",
        "outputId": "5dc09437-0c96-44b3-9168-d05af36f284d"
      },
      "outputs": [
        {
          "output_type": "display_data",
          "data": {
            "text/html": [
              "'a'"
            ],
            "text/markdown": "'a'",
            "text/latex": "'a'",
            "text/plain": [
              "[1] \"a\""
            ]
          },
          "metadata": {}
        },
        {
          "output_type": "display_data",
          "data": {
            "text/html": [
              "'c'"
            ],
            "text/markdown": "'c'",
            "text/latex": "'c'",
            "text/plain": [
              "[1] \"c\""
            ]
          },
          "metadata": {}
        },
        {
          "output_type": "display_data",
          "data": {
            "text/html": [
              "'My name is coatless'"
            ],
            "text/markdown": "'My name is coatless'",
            "text/latex": "'My name is coatless'",
            "text/plain": [
              "[1] \"My name is coatless\""
            ]
          },
          "metadata": {}
        }
      ],
      "source": [
        "# Check if variables exist before defining them\n",
        "if(!exists(\"original_bracket\") && !exists(\"original_double_bracket\")) {\n",
        "  original_bracket <- `[`\n",
        "  original_double_bracket <- `[[`\n",
        "}\n",
        "\n",
        "# Create zero-based versions\n",
        "`[` <- function(x, i, ...) {\n",
        "  if (is.numeric(i) && length(i) > 0 && !all(is.na(i))) {\n",
        "    i <- i + 1\n",
        "  }\n",
        "  original_bracket(x, i, ...)\n",
        "}\n",
        "\n",
        "`[[` <- function(x, i, ...) {\n",
        "  if (is.numeric(i) && !all(is.na(i))) {\n",
        "    i <- i + 1\n",
        "  }\n",
        "  original_double_bracket(x, i, ...)\n",
        "}\n",
        "\n",
        "# Demo\n",
        "v <- c(\"a\", \"b\", \"c\")\n",
        "v[0]\n",
        "\n",
        "v[2]\n",
        "\n",
        "my_name_is <- function(name) {\n",
        "  paste(\"My name is\", name[0])\n",
        "}\n",
        "\n",
        "my_name_is(c(\"coatless\", \"r\", \"james\"))"
      ]
    }
  ]
}
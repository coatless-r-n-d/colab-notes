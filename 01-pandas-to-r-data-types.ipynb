{
  "nbformat": 4,
  "nbformat_minor": 0,
  "metadata": {
    "colab": {
      "provenance": [],
      "authorship_tag": "ABX9TyPc6x6whDS5qG7qKy8FvNUy",
      "include_colab_link": true
    },
    "kernelspec": {
      "name": "python3",
      "display_name": "Python 3"
    },
    "language_info": {
      "name": "python"
    }
  },
  "cells": [
    {
      "cell_type": "markdown",
      "metadata": {
        "id": "view-in-github",
        "colab_type": "text"
      },
      "source": [
        "<a href=\"https://colab.research.google.com/github/coatless/colab-notes/blob/main/01-pandas-to-r-data-types.ipynb\" target=\"_parent\"><img src=\"https://colab.research.google.com/assets/colab-badge.svg\" alt=\"Open In Colab\"/></a>"
      ]
    },
    {
      "cell_type": "markdown",
      "source": [
        "# (Aside) Fix rpy2 version\n",
        "\n",
        "Downgrade to address [Conversion 'py2rpy' not defined for objects of type '<class 'str'>'](https://stackoverflow.com/questions/74283327/conversion-py2rpy-not-defined-for-objects-of-type-class-str)"
      ],
      "metadata": {
        "id": "zHDUBpYnum6z"
      }
    },
    {
      "cell_type": "code",
      "source": [
        "# Downgrade rpy2 from 3.5.5\n",
        "!pip install rpy2==3.5.1"
      ],
      "metadata": {
        "colab": {
          "base_uri": "https://localhost:8080/",
          "height": 505
        },
        "id": "o0JNFQSNuKsb",
        "outputId": "3ff90a28-4fd8-4cd8-98a6-c2485f3f93cf"
      },
      "execution_count": 40,
      "outputs": [
        {
          "output_type": "stream",
          "name": "stdout",
          "text": [
            "Looking in indexes: https://pypi.org/simple, https://us-python.pkg.dev/colab-wheels/public/simple/\n",
            "Collecting rpy2==3.5.1\n",
            "  Downloading rpy2-3.5.1.tar.gz (201 kB)\n",
            "\u001b[2K     \u001b[90m━━━━━━━━━━━━━━━━━━━━━━━━━━━━━━━━━━━━━━━\u001b[0m \u001b[32m201.7/201.7 KB\u001b[0m \u001b[31m5.8 MB/s\u001b[0m eta \u001b[36m0:00:00\u001b[0m\n",
            "\u001b[?25h  Preparing metadata (setup.py) ... \u001b[?25l\u001b[?25hdone\n",
            "Requirement already satisfied: cffi>=1.10.0 in /usr/local/lib/python3.8/dist-packages (from rpy2==3.5.1) (1.15.1)\n",
            "Requirement already satisfied: jinja2 in /usr/local/lib/python3.8/dist-packages (from rpy2==3.5.1) (2.11.3)\n",
            "Requirement already satisfied: pytz in /usr/local/lib/python3.8/dist-packages (from rpy2==3.5.1) (2022.7)\n",
            "Requirement already satisfied: tzlocal in /usr/local/lib/python3.8/dist-packages (from rpy2==3.5.1) (1.5.1)\n",
            "Requirement already satisfied: pycparser in /usr/local/lib/python3.8/dist-packages (from cffi>=1.10.0->rpy2==3.5.1) (2.21)\n",
            "Requirement already satisfied: MarkupSafe>=0.23 in /usr/local/lib/python3.8/dist-packages (from jinja2->rpy2==3.5.1) (2.0.1)\n",
            "Building wheels for collected packages: rpy2\n",
            "  Building wheel for rpy2 (setup.py) ... \u001b[?25l\u001b[?25hdone\n",
            "  Created wheel for rpy2: filename=rpy2-3.5.1-cp38-cp38-linux_x86_64.whl size=310202 sha256=89957bc63dad301d14886c402616e4d9f56c5b834a8a392084b182ca75297f8c\n",
            "  Stored in directory: /root/.cache/pip/wheels/6b/40/7d/f63e87fd83e8b99ee837c8e3489081c4b3489134bc520235ed\n",
            "Successfully built rpy2\n",
            "Installing collected packages: rpy2\n",
            "  Attempting uninstall: rpy2\n",
            "    Found existing installation: rpy2 3.5.5\n",
            "    Uninstalling rpy2-3.5.5:\n",
            "      Successfully uninstalled rpy2-3.5.5\n",
            "Successfully installed rpy2-3.5.1\n"
          ]
        },
        {
          "output_type": "display_data",
          "data": {
            "application/vnd.colab-display-data+json": {
              "pip_warning": {
                "packages": [
                  "_rinterface_cffi_api",
                  "rpy2"
                ]
              }
            }
          },
          "metadata": {}
        }
      ]
    },
    {
      "cell_type": "markdown",
      "source": [
        "# Coversion of Pandas to R Data Types"
      ],
      "metadata": {
        "id": "8PKJTfIclti5"
      }
    },
    {
      "cell_type": "markdown",
      "source": [
        "Create a data frame in Pandas and observe types from different variable initializations.\n",
        "\n",
        "https://pandas.pydata.org/docs/user_guide/basics.html#basics-dtypes"
      ],
      "metadata": {
        "id": "Q7dkBKkXlzYV"
      }
    },
    {
      "cell_type": "code",
      "source": [
        "import pandas as pd \n",
        "import numpy as np \n",
        "\n",
        "dft = pd.DataFrame(\n",
        "    {\n",
        "        # Scalars\n",
        "        \"integer\": 1,\n",
        "        \"numeric\": 3.14,\n",
        "        \"logical\": False,\n",
        "        \"character\": \"foo\",\n",
        "        \"complex\": complex(1, 2),\n",
        "        # Series\n",
        "        \"numeric-list\": pd.Series([1.0] * 3).astype(\"float32\"),\n",
        "        \"integer-list\": pd.Series([1] * 3, dtype=\"int8\"),\n",
        "        \"complex-list\": pd.Series(np.array([1, 2, 3]) + np.array([4, 5, 6]) *1j).astype(\"complex128\"),\n",
        "        \"character-list\": pd.Series([\"hello\", \"world\", \"stat\"]),\n",
        "        \"logical-list\": pd.Series([True, False, True]),\n",
        "        # Time Dependency: https://pandas.pydata.org/docs/user_guide/timeseries.html\n",
        "        \"POSIXct-POSIXt-timestamp\": pd.Timestamp(\"20230102\"),\n",
        "        \"POSIXct-POSIXt-date_range\": pd.date_range(\"2023\", freq=\"D\", periods=3),\n",
        "        #\"POSIXct-POSIXt-period\": pd.period_range(\"1/1/2011\", freq=\"M\", periods=3), # Not supported in rpy2\n",
        "        #\"POSIXct-POSIXt-timedelta\": pd.to_timedelta(np.arange(3), unit=\"s\"), # Not supported in rpy2\n",
        "        # Categorical: https://pandas.pydata.org/docs/user_guide/categorical.html\n",
        "        \"factor\": pd.Categorical([\"a\", \"b\", \"c\"], ordered=False),\n",
        "        \"ordered-factor\": pd.Categorical([\"a\", \"b\", \"c\"], categories=[\"a\", \"b\", \"c\"], ordered=True),\n",
        "    }\n",
        ")\n",
        "\n",
        "dft"
      ],
      "metadata": {
        "colab": {
          "base_uri": "https://localhost:8080/",
          "height": 222
        },
        "id": "YaxGeHPG-_N3",
        "outputId": "00f7e1ee-ff55-49b5-f989-2ea13980eb50"
      },
      "execution_count": 6,
      "outputs": [
        {
          "output_type": "execute_result",
          "data": {
            "text/plain": [
              "   integer  numeric  logical character   complex  numeric-list  integer-list  \\\n",
              "0        1     3.14    False       foo  1.0+2.0j           1.0             1   \n",
              "1        1     3.14    False       foo  1.0+2.0j           1.0             1   \n",
              "2        1     3.14    False       foo  1.0+2.0j           1.0             1   \n",
              "\n",
              "   complex-list character-list  logical-list POSIXct-POSIXt-timestamp  \\\n",
              "0      1.0+4.0j          hello          True               2023-01-02   \n",
              "1      2.0+5.0j          world         False               2023-01-02   \n",
              "2      3.0+6.0j           stat          True               2023-01-02   \n",
              "\n",
              "  POSIXct-POSIXt-date_range factor ordered-factor  \n",
              "0                2023-01-01      a              a  \n",
              "1                2023-01-02      b              b  \n",
              "2                2023-01-03      c              c  "
            ],
            "text/html": [
              "\n",
              "  <div id=\"df-804e6ee3-8acc-4968-b7e0-d42b271fe281\">\n",
              "    <div class=\"colab-df-container\">\n",
              "      <div>\n",
              "<style scoped>\n",
              "    .dataframe tbody tr th:only-of-type {\n",
              "        vertical-align: middle;\n",
              "    }\n",
              "\n",
              "    .dataframe tbody tr th {\n",
              "        vertical-align: top;\n",
              "    }\n",
              "\n",
              "    .dataframe thead th {\n",
              "        text-align: right;\n",
              "    }\n",
              "</style>\n",
              "<table border=\"1\" class=\"dataframe\">\n",
              "  <thead>\n",
              "    <tr style=\"text-align: right;\">\n",
              "      <th></th>\n",
              "      <th>integer</th>\n",
              "      <th>numeric</th>\n",
              "      <th>logical</th>\n",
              "      <th>character</th>\n",
              "      <th>complex</th>\n",
              "      <th>numeric-list</th>\n",
              "      <th>integer-list</th>\n",
              "      <th>complex-list</th>\n",
              "      <th>character-list</th>\n",
              "      <th>logical-list</th>\n",
              "      <th>POSIXct-POSIXt-timestamp</th>\n",
              "      <th>POSIXct-POSIXt-date_range</th>\n",
              "      <th>factor</th>\n",
              "      <th>ordered-factor</th>\n",
              "    </tr>\n",
              "  </thead>\n",
              "  <tbody>\n",
              "    <tr>\n",
              "      <th>0</th>\n",
              "      <td>1</td>\n",
              "      <td>3.14</td>\n",
              "      <td>False</td>\n",
              "      <td>foo</td>\n",
              "      <td>1.0+2.0j</td>\n",
              "      <td>1.0</td>\n",
              "      <td>1</td>\n",
              "      <td>1.0+4.0j</td>\n",
              "      <td>hello</td>\n",
              "      <td>True</td>\n",
              "      <td>2023-01-02</td>\n",
              "      <td>2023-01-01</td>\n",
              "      <td>a</td>\n",
              "      <td>a</td>\n",
              "    </tr>\n",
              "    <tr>\n",
              "      <th>1</th>\n",
              "      <td>1</td>\n",
              "      <td>3.14</td>\n",
              "      <td>False</td>\n",
              "      <td>foo</td>\n",
              "      <td>1.0+2.0j</td>\n",
              "      <td>1.0</td>\n",
              "      <td>1</td>\n",
              "      <td>2.0+5.0j</td>\n",
              "      <td>world</td>\n",
              "      <td>False</td>\n",
              "      <td>2023-01-02</td>\n",
              "      <td>2023-01-02</td>\n",
              "      <td>b</td>\n",
              "      <td>b</td>\n",
              "    </tr>\n",
              "    <tr>\n",
              "      <th>2</th>\n",
              "      <td>1</td>\n",
              "      <td>3.14</td>\n",
              "      <td>False</td>\n",
              "      <td>foo</td>\n",
              "      <td>1.0+2.0j</td>\n",
              "      <td>1.0</td>\n",
              "      <td>1</td>\n",
              "      <td>3.0+6.0j</td>\n",
              "      <td>stat</td>\n",
              "      <td>True</td>\n",
              "      <td>2023-01-02</td>\n",
              "      <td>2023-01-03</td>\n",
              "      <td>c</td>\n",
              "      <td>c</td>\n",
              "    </tr>\n",
              "  </tbody>\n",
              "</table>\n",
              "</div>\n",
              "      <button class=\"colab-df-convert\" onclick=\"convertToInteractive('df-804e6ee3-8acc-4968-b7e0-d42b271fe281')\"\n",
              "              title=\"Convert this dataframe to an interactive table.\"\n",
              "              style=\"display:none;\">\n",
              "        \n",
              "  <svg xmlns=\"http://www.w3.org/2000/svg\" height=\"24px\"viewBox=\"0 0 24 24\"\n",
              "       width=\"24px\">\n",
              "    <path d=\"M0 0h24v24H0V0z\" fill=\"none\"/>\n",
              "    <path d=\"M18.56 5.44l.94 2.06.94-2.06 2.06-.94-2.06-.94-.94-2.06-.94 2.06-2.06.94zm-11 1L8.5 8.5l.94-2.06 2.06-.94-2.06-.94L8.5 2.5l-.94 2.06-2.06.94zm10 10l.94 2.06.94-2.06 2.06-.94-2.06-.94-.94-2.06-.94 2.06-2.06.94z\"/><path d=\"M17.41 7.96l-1.37-1.37c-.4-.4-.92-.59-1.43-.59-.52 0-1.04.2-1.43.59L10.3 9.45l-7.72 7.72c-.78.78-.78 2.05 0 2.83L4 21.41c.39.39.9.59 1.41.59.51 0 1.02-.2 1.41-.59l7.78-7.78 2.81-2.81c.8-.78.8-2.07 0-2.86zM5.41 20L4 18.59l7.72-7.72 1.47 1.35L5.41 20z\"/>\n",
              "  </svg>\n",
              "      </button>\n",
              "      \n",
              "  <style>\n",
              "    .colab-df-container {\n",
              "      display:flex;\n",
              "      flex-wrap:wrap;\n",
              "      gap: 12px;\n",
              "    }\n",
              "\n",
              "    .colab-df-convert {\n",
              "      background-color: #E8F0FE;\n",
              "      border: none;\n",
              "      border-radius: 50%;\n",
              "      cursor: pointer;\n",
              "      display: none;\n",
              "      fill: #1967D2;\n",
              "      height: 32px;\n",
              "      padding: 0 0 0 0;\n",
              "      width: 32px;\n",
              "    }\n",
              "\n",
              "    .colab-df-convert:hover {\n",
              "      background-color: #E2EBFA;\n",
              "      box-shadow: 0px 1px 2px rgba(60, 64, 67, 0.3), 0px 1px 3px 1px rgba(60, 64, 67, 0.15);\n",
              "      fill: #174EA6;\n",
              "    }\n",
              "\n",
              "    [theme=dark] .colab-df-convert {\n",
              "      background-color: #3B4455;\n",
              "      fill: #D2E3FC;\n",
              "    }\n",
              "\n",
              "    [theme=dark] .colab-df-convert:hover {\n",
              "      background-color: #434B5C;\n",
              "      box-shadow: 0px 1px 3px 1px rgba(0, 0, 0, 0.15);\n",
              "      filter: drop-shadow(0px 1px 2px rgba(0, 0, 0, 0.3));\n",
              "      fill: #FFFFFF;\n",
              "    }\n",
              "  </style>\n",
              "\n",
              "      <script>\n",
              "        const buttonEl =\n",
              "          document.querySelector('#df-804e6ee3-8acc-4968-b7e0-d42b271fe281 button.colab-df-convert');\n",
              "        buttonEl.style.display =\n",
              "          google.colab.kernel.accessAllowed ? 'block' : 'none';\n",
              "\n",
              "        async function convertToInteractive(key) {\n",
              "          const element = document.querySelector('#df-804e6ee3-8acc-4968-b7e0-d42b271fe281');\n",
              "          const dataTable =\n",
              "            await google.colab.kernel.invokeFunction('convertToInteractive',\n",
              "                                                     [key], {});\n",
              "          if (!dataTable) return;\n",
              "\n",
              "          const docLinkHtml = 'Like what you see? Visit the ' +\n",
              "            '<a target=\"_blank\" href=https://colab.research.google.com/notebooks/data_table.ipynb>data table notebook</a>'\n",
              "            + ' to learn more about interactive tables.';\n",
              "          element.innerHTML = '';\n",
              "          dataTable['output_type'] = 'display_data';\n",
              "          await google.colab.output.renderOutput(dataTable, element);\n",
              "          const docLink = document.createElement('div');\n",
              "          docLink.innerHTML = docLinkHtml;\n",
              "          element.appendChild(docLink);\n",
              "        }\n",
              "      </script>\n",
              "    </div>\n",
              "  </div>\n",
              "  "
            ]
          },
          "metadata": {},
          "execution_count": 6
        }
      ]
    },
    {
      "cell_type": "code",
      "source": [
        "dft.dtypes"
      ],
      "metadata": {
        "colab": {
          "base_uri": "https://localhost:8080/"
        },
        "id": "OjP9Juszl_Ub",
        "outputId": "10852999-f6ed-495c-e940-6fc2c17e421b"
      },
      "execution_count": 2,
      "outputs": [
        {
          "output_type": "execute_result",
          "data": {
            "text/plain": [
              "integer                               int64\n",
              "numeric                             float64\n",
              "logical                                bool\n",
              "character                            object\n",
              "complex                          complex128\n",
              "numeric-list                        float32\n",
              "integer-list                           int8\n",
              "complex-list                     complex128\n",
              "character-list                       object\n",
              "logical-list                           bool\n",
              "POSIXct-POSIXt-timestamp     datetime64[ns]\n",
              "POSIXct-POSIXt-date_range    datetime64[ns]\n",
              "factor                             category\n",
              "ordered-factor                     category\n",
              "dtype: object"
            ]
          },
          "metadata": {},
          "execution_count": 2
        }
      ]
    },
    {
      "cell_type": "markdown",
      "source": [
        "Check by passing the data frame into _R_ using `rpy2`:"
      ],
      "metadata": {
        "id": "fbgJRFzClPMY"
      }
    },
    {
      "cell_type": "code",
      "source": [
        "%load_ext rpy2.ipython"
      ],
      "metadata": {
        "id": "fO2AvCF-lOmp"
      },
      "execution_count": 3,
      "outputs": []
    },
    {
      "cell_type": "code",
      "source": [
        "%%R -i dft\n",
        "\n",
        "sapply(dft, class)"
      ],
      "metadata": {
        "colab": {
          "base_uri": "https://localhost:8080/"
        },
        "id": "vTcORI1rswYh",
        "outputId": "82b40a91-2ecc-41b7-a86a-cb2e6cac1d3a"
      },
      "execution_count": 5,
      "outputs": [
        {
          "output_type": "stream",
          "name": "stdout",
          "text": [
            "$integer\n",
            "[1] \"integer\"\n",
            "\n",
            "$numeric\n",
            "[1] \"numeric\"\n",
            "\n",
            "$logical\n",
            "[1] \"logical\"\n",
            "\n",
            "$character\n",
            "[1] \"character\"\n",
            "\n",
            "$complex\n",
            "[1] \"complex\"\n",
            "\n",
            "$`numeric-list`\n",
            "[1] \"numeric\"\n",
            "\n",
            "$`integer-list`\n",
            "[1] \"integer\"\n",
            "\n",
            "$`complex-list`\n",
            "[1] \"complex\"\n",
            "\n",
            "$`character-list`\n",
            "[1] \"character\"\n",
            "\n",
            "$`logical-list`\n",
            "[1] \"logical\"\n",
            "\n",
            "$`POSIXct-POSIXt-timestamp`\n",
            "[1] \"POSIXct\" \"POSIXt\" \n",
            "\n",
            "$`POSIXct-POSIXt-date_range`\n",
            "[1] \"POSIXct\" \"POSIXt\" \n",
            "\n",
            "$factor\n",
            "[1] \"factor\"\n",
            "\n",
            "$`ordered-factor`\n",
            "[1] \"ordered\" \"factor\" \n",
            "\n"
          ]
        }
      ]
    }
  ]
}
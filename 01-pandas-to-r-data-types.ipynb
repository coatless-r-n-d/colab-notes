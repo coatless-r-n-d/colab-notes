{
  "nbformat": 4,
  "nbformat_minor": 0,
  "metadata": {
    "colab": {
      "provenance": [],
      "toc_visible": true,
      "authorship_tag": "ABX9TyPHSrdyS6KJVDbYWR61Cxhe",
      "include_colab_link": true
    },
    "kernelspec": {
      "name": "python3",
      "display_name": "Python 3"
    },
    "language_info": {
      "name": "python"
    }
  },
  "cells": [
    {
      "cell_type": "markdown",
      "metadata": {
        "id": "view-in-github",
        "colab_type": "text"
      },
      "source": [
        "<a href=\"https://colab.research.google.com/github/coatless/colab-notes/blob/main/01-pandas-to-r-data-types.ipynb\" target=\"_parent\"><img src=\"https://colab.research.google.com/assets/colab-badge.svg\" alt=\"Open In Colab\"/></a>"
      ]
    },
    {
      "cell_type": "markdown",
      "source": [
        "# (Aside) Fix rpy2 version\n",
        "\n",
        "Downgrade to address [Conversion 'py2rpy' not defined for objects of type '<class 'str'>'](https://stackoverflow.com/questions/74283327/conversion-py2rpy-not-defined-for-objects-of-type-class-str)"
      ],
      "metadata": {
        "id": "zHDUBpYnum6z"
      }
    },
    {
      "cell_type": "code",
      "source": [
        "# Downgrade rpy2 from 3.5.5\n",
        "!pip install rpy2==3.5.1"
      ],
      "metadata": {
        "colab": {
          "base_uri": "https://localhost:8080/"
        },
        "id": "o0JNFQSNuKsb",
        "outputId": "077de4b6-c39a-40bc-9f65-7b18c625988e"
      },
      "execution_count": 2,
      "outputs": [
        {
          "output_type": "stream",
          "name": "stdout",
          "text": [
            "Looking in indexes: https://pypi.org/simple, https://us-python.pkg.dev/colab-wheels/public/simple/\n",
            "Collecting rpy2==3.5.1\n",
            "  Downloading rpy2-3.5.1.tar.gz (201 kB)\n",
            "\u001b[2K     \u001b[90m━━━━━━━━━━━━━━━━━━━━━━━━━━━━━━━━━━━━━━━\u001b[0m \u001b[32m201.7/201.7 KB\u001b[0m \u001b[31m6.5 MB/s\u001b[0m eta \u001b[36m0:00:00\u001b[0m\n",
            "\u001b[?25h  Preparing metadata (setup.py) ... \u001b[?25l\u001b[?25hdone\n",
            "Requirement already satisfied: cffi>=1.10.0 in /usr/local/lib/python3.8/dist-packages (from rpy2==3.5.1) (1.15.1)\n",
            "Requirement already satisfied: jinja2 in /usr/local/lib/python3.8/dist-packages (from rpy2==3.5.1) (2.11.3)\n",
            "Requirement already satisfied: pytz in /usr/local/lib/python3.8/dist-packages (from rpy2==3.5.1) (2022.7)\n",
            "Requirement already satisfied: tzlocal in /usr/local/lib/python3.8/dist-packages (from rpy2==3.5.1) (1.5.1)\n",
            "Requirement already satisfied: pycparser in /usr/local/lib/python3.8/dist-packages (from cffi>=1.10.0->rpy2==3.5.1) (2.21)\n",
            "Requirement already satisfied: MarkupSafe>=0.23 in /usr/local/lib/python3.8/dist-packages (from jinja2->rpy2==3.5.1) (2.0.1)\n",
            "Building wheels for collected packages: rpy2\n",
            "  Building wheel for rpy2 (setup.py) ... \u001b[?25l\u001b[?25hdone\n",
            "  Created wheel for rpy2: filename=rpy2-3.5.1-cp38-cp38-linux_x86_64.whl size=310205 sha256=a2902d09ce7d5eeec45f0ee1e950dc67cfeff9a51b13cd1bf2e2e1ad5d15de2b\n",
            "  Stored in directory: /root/.cache/pip/wheels/6b/40/7d/f63e87fd83e8b99ee837c8e3489081c4b3489134bc520235ed\n",
            "Successfully built rpy2\n",
            "Installing collected packages: rpy2\n",
            "  Attempting uninstall: rpy2\n",
            "    Found existing installation: rpy2 3.5.5\n",
            "    Uninstalling rpy2-3.5.5:\n",
            "      Successfully uninstalled rpy2-3.5.5\n",
            "Successfully installed rpy2-3.5.1\n"
          ]
        }
      ]
    },
    {
      "cell_type": "markdown",
      "source": [
        "# Conversion of Pandas to R Data Types"
      ],
      "metadata": {
        "id": "8PKJTfIclti5"
      }
    },
    {
      "cell_type": "markdown",
      "source": [
        "Create a data frame in Pandas and observe types from different variable initializations."
      ],
      "metadata": {
        "id": "Q7dkBKkXlzYV"
      }
    },
    {
      "cell_type": "code",
      "source": [
        "import pandas as pd \n",
        "import numpy as np \n",
        "\n",
        "dft = pd.DataFrame(\n",
        "    {\n",
        "        # Scalars\n",
        "        \"integer\": 1,\n",
        "        \"numeric\": 3.14,\n",
        "        \"logical\": False,\n",
        "        \"character\": \"foo\",\n",
        "        \"complex\": complex(1, 2),\n",
        "        # Series\n",
        "        \"numeric-list\": pd.Series([1.0] * 3).astype(\"float32\"),\n",
        "        \"integer-list\": pd.Series([1] * 3, dtype=\"int8\"),\n",
        "        \"complex-list\": pd.Series(np.array([1, 2, 3]) + np.array([4, 5, 6]) *1j).astype(\"complex128\"),\n",
        "        \"character-list\": pd.Series([\"hello\", \"world\", \"stat\"]),\n",
        "        \"logical-list\": pd.Series([True, False, True]),\n",
        "        \"character-string-list\": pd.Series([\"a\", \"b\", \"c\"], dtype=\"string\"),\n",
        "        # Time Dependency: https://pandas.pydata.org/docs/user_guide/timeseries.html\n",
        "        \"POSIXct-POSIXt-timestamp\": pd.Timestamp(\"20230102\"),\n",
        "        \"POSIXct-POSIXt-date_range\": pd.date_range(\"2023\", freq=\"D\", periods=3),\n",
        "        #\"POSIXct-POSIXt-period\": pd.period_range(\"1/1/2011\", freq=\"M\", periods=3), # Not supported in rpy2\n",
        "        #\"POSIXct-POSIXt-timedelta\": pd.to_timedelta(np.arange(3), unit=\"s\"), # Not supported in rpy2\n",
        "        # Categorical: https://pandas.pydata.org/docs/user_guide/categorical.html\n",
        "        \"factor\": pd.Categorical([\"a\", \"b\", \"c\"], ordered=False),\n",
        "        \"ordered-factor\": pd.Categorical([\"a\", \"b\", \"c\"], categories=[\"a\", \"b\", \"c\"], ordered=True),\n",
        "    }\n",
        ")\n",
        "\n",
        "dft"
      ],
      "metadata": {
        "colab": {
          "base_uri": "https://localhost:8080/",
          "height": 222
        },
        "id": "YaxGeHPG-_N3",
        "outputId": "7846316b-f780-4768-d847-9d2be684ed8c"
      },
      "execution_count": 3,
      "outputs": [
        {
          "output_type": "execute_result",
          "data": {
            "text/plain": [
              "   integer  numeric  logical character   complex  numeric-list  integer-list  \\\n",
              "0        1     3.14    False       foo  1.0+2.0j           1.0             1   \n",
              "1        1     3.14    False       foo  1.0+2.0j           1.0             1   \n",
              "2        1     3.14    False       foo  1.0+2.0j           1.0             1   \n",
              "\n",
              "   complex-list character-list  logical-list character-string-list  \\\n",
              "0      1.0+4.0j          hello          True                     a   \n",
              "1      2.0+5.0j          world         False                     b   \n",
              "2      3.0+6.0j           stat          True                     c   \n",
              "\n",
              "  POSIXct-POSIXt-timestamp POSIXct-POSIXt-date_range factor ordered-factor  \n",
              "0               2023-01-02                2023-01-01      a              a  \n",
              "1               2023-01-02                2023-01-02      b              b  \n",
              "2               2023-01-02                2023-01-03      c              c  "
            ],
            "text/html": [
              "\n",
              "  <div id=\"df-86201776-769e-457e-9ddc-11530a2ab03c\">\n",
              "    <div class=\"colab-df-container\">\n",
              "      <div>\n",
              "<style scoped>\n",
              "    .dataframe tbody tr th:only-of-type {\n",
              "        vertical-align: middle;\n",
              "    }\n",
              "\n",
              "    .dataframe tbody tr th {\n",
              "        vertical-align: top;\n",
              "    }\n",
              "\n",
              "    .dataframe thead th {\n",
              "        text-align: right;\n",
              "    }\n",
              "</style>\n",
              "<table border=\"1\" class=\"dataframe\">\n",
              "  <thead>\n",
              "    <tr style=\"text-align: right;\">\n",
              "      <th></th>\n",
              "      <th>integer</th>\n",
              "      <th>numeric</th>\n",
              "      <th>logical</th>\n",
              "      <th>character</th>\n",
              "      <th>complex</th>\n",
              "      <th>numeric-list</th>\n",
              "      <th>integer-list</th>\n",
              "      <th>complex-list</th>\n",
              "      <th>character-list</th>\n",
              "      <th>logical-list</th>\n",
              "      <th>character-string-list</th>\n",
              "      <th>POSIXct-POSIXt-timestamp</th>\n",
              "      <th>POSIXct-POSIXt-date_range</th>\n",
              "      <th>factor</th>\n",
              "      <th>ordered-factor</th>\n",
              "    </tr>\n",
              "  </thead>\n",
              "  <tbody>\n",
              "    <tr>\n",
              "      <th>0</th>\n",
              "      <td>1</td>\n",
              "      <td>3.14</td>\n",
              "      <td>False</td>\n",
              "      <td>foo</td>\n",
              "      <td>1.0+2.0j</td>\n",
              "      <td>1.0</td>\n",
              "      <td>1</td>\n",
              "      <td>1.0+4.0j</td>\n",
              "      <td>hello</td>\n",
              "      <td>True</td>\n",
              "      <td>a</td>\n",
              "      <td>2023-01-02</td>\n",
              "      <td>2023-01-01</td>\n",
              "      <td>a</td>\n",
              "      <td>a</td>\n",
              "    </tr>\n",
              "    <tr>\n",
              "      <th>1</th>\n",
              "      <td>1</td>\n",
              "      <td>3.14</td>\n",
              "      <td>False</td>\n",
              "      <td>foo</td>\n",
              "      <td>1.0+2.0j</td>\n",
              "      <td>1.0</td>\n",
              "      <td>1</td>\n",
              "      <td>2.0+5.0j</td>\n",
              "      <td>world</td>\n",
              "      <td>False</td>\n",
              "      <td>b</td>\n",
              "      <td>2023-01-02</td>\n",
              "      <td>2023-01-02</td>\n",
              "      <td>b</td>\n",
              "      <td>b</td>\n",
              "    </tr>\n",
              "    <tr>\n",
              "      <th>2</th>\n",
              "      <td>1</td>\n",
              "      <td>3.14</td>\n",
              "      <td>False</td>\n",
              "      <td>foo</td>\n",
              "      <td>1.0+2.0j</td>\n",
              "      <td>1.0</td>\n",
              "      <td>1</td>\n",
              "      <td>3.0+6.0j</td>\n",
              "      <td>stat</td>\n",
              "      <td>True</td>\n",
              "      <td>c</td>\n",
              "      <td>2023-01-02</td>\n",
              "      <td>2023-01-03</td>\n",
              "      <td>c</td>\n",
              "      <td>c</td>\n",
              "    </tr>\n",
              "  </tbody>\n",
              "</table>\n",
              "</div>\n",
              "      <button class=\"colab-df-convert\" onclick=\"convertToInteractive('df-86201776-769e-457e-9ddc-11530a2ab03c')\"\n",
              "              title=\"Convert this dataframe to an interactive table.\"\n",
              "              style=\"display:none;\">\n",
              "        \n",
              "  <svg xmlns=\"http://www.w3.org/2000/svg\" height=\"24px\"viewBox=\"0 0 24 24\"\n",
              "       width=\"24px\">\n",
              "    <path d=\"M0 0h24v24H0V0z\" fill=\"none\"/>\n",
              "    <path d=\"M18.56 5.44l.94 2.06.94-2.06 2.06-.94-2.06-.94-.94-2.06-.94 2.06-2.06.94zm-11 1L8.5 8.5l.94-2.06 2.06-.94-2.06-.94L8.5 2.5l-.94 2.06-2.06.94zm10 10l.94 2.06.94-2.06 2.06-.94-2.06-.94-.94-2.06-.94 2.06-2.06.94z\"/><path d=\"M17.41 7.96l-1.37-1.37c-.4-.4-.92-.59-1.43-.59-.52 0-1.04.2-1.43.59L10.3 9.45l-7.72 7.72c-.78.78-.78 2.05 0 2.83L4 21.41c.39.39.9.59 1.41.59.51 0 1.02-.2 1.41-.59l7.78-7.78 2.81-2.81c.8-.78.8-2.07 0-2.86zM5.41 20L4 18.59l7.72-7.72 1.47 1.35L5.41 20z\"/>\n",
              "  </svg>\n",
              "      </button>\n",
              "      \n",
              "  <style>\n",
              "    .colab-df-container {\n",
              "      display:flex;\n",
              "      flex-wrap:wrap;\n",
              "      gap: 12px;\n",
              "    }\n",
              "\n",
              "    .colab-df-convert {\n",
              "      background-color: #E8F0FE;\n",
              "      border: none;\n",
              "      border-radius: 50%;\n",
              "      cursor: pointer;\n",
              "      display: none;\n",
              "      fill: #1967D2;\n",
              "      height: 32px;\n",
              "      padding: 0 0 0 0;\n",
              "      width: 32px;\n",
              "    }\n",
              "\n",
              "    .colab-df-convert:hover {\n",
              "      background-color: #E2EBFA;\n",
              "      box-shadow: 0px 1px 2px rgba(60, 64, 67, 0.3), 0px 1px 3px 1px rgba(60, 64, 67, 0.15);\n",
              "      fill: #174EA6;\n",
              "    }\n",
              "\n",
              "    [theme=dark] .colab-df-convert {\n",
              "      background-color: #3B4455;\n",
              "      fill: #D2E3FC;\n",
              "    }\n",
              "\n",
              "    [theme=dark] .colab-df-convert:hover {\n",
              "      background-color: #434B5C;\n",
              "      box-shadow: 0px 1px 3px 1px rgba(0, 0, 0, 0.15);\n",
              "      filter: drop-shadow(0px 1px 2px rgba(0, 0, 0, 0.3));\n",
              "      fill: #FFFFFF;\n",
              "    }\n",
              "  </style>\n",
              "\n",
              "      <script>\n",
              "        const buttonEl =\n",
              "          document.querySelector('#df-86201776-769e-457e-9ddc-11530a2ab03c button.colab-df-convert');\n",
              "        buttonEl.style.display =\n",
              "          google.colab.kernel.accessAllowed ? 'block' : 'none';\n",
              "\n",
              "        async function convertToInteractive(key) {\n",
              "          const element = document.querySelector('#df-86201776-769e-457e-9ddc-11530a2ab03c');\n",
              "          const dataTable =\n",
              "            await google.colab.kernel.invokeFunction('convertToInteractive',\n",
              "                                                     [key], {});\n",
              "          if (!dataTable) return;\n",
              "\n",
              "          const docLinkHtml = 'Like what you see? Visit the ' +\n",
              "            '<a target=\"_blank\" href=https://colab.research.google.com/notebooks/data_table.ipynb>data table notebook</a>'\n",
              "            + ' to learn more about interactive tables.';\n",
              "          element.innerHTML = '';\n",
              "          dataTable['output_type'] = 'display_data';\n",
              "          await google.colab.output.renderOutput(dataTable, element);\n",
              "          const docLink = document.createElement('div');\n",
              "          docLink.innerHTML = docLinkHtml;\n",
              "          element.appendChild(docLink);\n",
              "        }\n",
              "      </script>\n",
              "    </div>\n",
              "  </div>\n",
              "  "
            ]
          },
          "metadata": {},
          "execution_count": 3
        }
      ]
    },
    {
      "cell_type": "code",
      "source": [
        "dft.dtypes"
      ],
      "metadata": {
        "colab": {
          "base_uri": "https://localhost:8080/"
        },
        "id": "OjP9Juszl_Ub",
        "outputId": "c9f7fb5d-ebe2-4ce8-b4d4-a2d537361a54"
      },
      "execution_count": 4,
      "outputs": [
        {
          "output_type": "execute_result",
          "data": {
            "text/plain": [
              "integer                               int64\n",
              "numeric                             float64\n",
              "logical                                bool\n",
              "character                            object\n",
              "complex                          complex128\n",
              "numeric-list                        float32\n",
              "integer-list                           int8\n",
              "complex-list                     complex128\n",
              "character-list                       object\n",
              "logical-list                           bool\n",
              "character-string-list                string\n",
              "POSIXct-POSIXt-timestamp     datetime64[ns]\n",
              "POSIXct-POSIXt-date_range    datetime64[ns]\n",
              "factor                             category\n",
              "ordered-factor                     category\n",
              "dtype: object"
            ]
          },
          "metadata": {},
          "execution_count": 4
        }
      ]
    },
    {
      "cell_type": "markdown",
      "source": [
        "Check by passing the data frame into _R_ using `rpy2`:"
      ],
      "metadata": {
        "id": "fbgJRFzClPMY"
      }
    },
    {
      "cell_type": "code",
      "source": [
        "%load_ext rpy2.ipython"
      ],
      "metadata": {
        "id": "fO2AvCF-lOmp"
      },
      "execution_count": 5,
      "outputs": []
    },
    {
      "cell_type": "code",
      "source": [
        "%%R -i dft\n",
        "\n",
        "sapply(dft, class)"
      ],
      "metadata": {
        "colab": {
          "base_uri": "https://localhost:8080/"
        },
        "id": "vTcORI1rswYh",
        "outputId": "84dbfa85-79c2-4108-b10e-cb16756e414e"
      },
      "execution_count": 6,
      "outputs": [
        {
          "output_type": "stream",
          "name": "stdout",
          "text": [
            "$integer\n",
            "[1] \"integer\"\n",
            "\n",
            "$numeric\n",
            "[1] \"numeric\"\n",
            "\n",
            "$logical\n",
            "[1] \"logical\"\n",
            "\n",
            "$character\n",
            "[1] \"character\"\n",
            "\n",
            "$complex\n",
            "[1] \"complex\"\n",
            "\n",
            "$`numeric-list`\n",
            "[1] \"numeric\"\n",
            "\n",
            "$`integer-list`\n",
            "[1] \"integer\"\n",
            "\n",
            "$`complex-list`\n",
            "[1] \"complex\"\n",
            "\n",
            "$`character-list`\n",
            "[1] \"character\"\n",
            "\n",
            "$`logical-list`\n",
            "[1] \"logical\"\n",
            "\n",
            "$`character-string-list`\n",
            "[1] \"character\"\n",
            "\n",
            "$`POSIXct-POSIXt-timestamp`\n",
            "[1] \"POSIXct\" \"POSIXt\" \n",
            "\n",
            "$`POSIXct-POSIXt-date_range`\n",
            "[1] \"POSIXct\" \"POSIXt\" \n",
            "\n",
            "$factor\n",
            "[1] \"factor\"\n",
            "\n",
            "$`ordered-factor`\n",
            "[1] \"ordered\" \"factor\" \n",
            "\n"
          ]
        }
      ]
    },
    {
      "cell_type": "markdown",
      "source": [
        "# Conversion Lookup Table"
      ],
      "metadata": {
        "id": "nR91FcmXxYID"
      }
    },
    {
      "cell_type": "markdown",
      "source": [
        "| R                                                                                       | Pandas     |\n",
        "| --------------------------------------------------------------------------------------- | --------- |\n",
        "| integer                                                                                 | [`Int{8,16,32,64}`](https://pandas.pydata.org/docs/user_guide/integer_na.html#integer-na), [`UInt{8,16,32,64}`](https://pandas.pydata.org/docs/user_guide/integer_na.html#integer-na), [`np.int{8,16,32,64}`](https://numpy.org/doc/stable/reference/arrays.scalars.html#sized-aliases), [`np.uint{8,16,32,64}`](https://numpy.org/doc/stable/reference/arrays.scalars.html#sized-aliases) and [`np.integer`](https://numpy.org/doc/stable/reference/arrays.scalars.html#integer-types)   |\n",
        "| numeric                                                                                   | [`np.float{16, 32, 64, 96, 128}`](https://numpy.org/doc/stable/reference/arrays.scalars.html#sized-aliases) and [`np.floating`](https://numpy.org/doc/stable/reference/arrays.scalars.html#floating-point-types)    |\n",
        "| complex                                                                                   | [`np.complex{64, 96, 128, 256}`](https://numpy.org/doc/stable/reference/arrays.scalars.html#sized-aliases) and [`np.complexfloating`](https://numpy.org/doc/stable/reference/arrays.scalars.html#complex-floating-point-types)    |\n",
        "| character                                                                               | `object`    |\n",
        "| character                                                                               | `string`    |\n",
        "| logical                                                                                  | `bool`    |\n",
        "| [POSIXct](https://stat.ethz.ch/R-manual/R-devel/library/base/html/DateTimeClasses.html), [POSIXt](https://stat.ethz.ch/R-manual/R-devel/library/base/html/DateTimeClasses.html) | `datetime64[ns]` |\n",
        "| [POSIXct](https://stat.ethz.ch/R-manual/R-devel/library/base/html/DateTimeClasses.html), [POSIXt](https://stat.ethz.ch/R-manual/R-devel/library/base/html/DateTimeClasses.html) | `period[*]` |\n",
        "| [POSIXct](https://stat.ethz.ch/R-manual/R-devel/library/base/html/DateTimeClasses.html), [POSIXt](https://stat.ethz.ch/R-manual/R-devel/library/base/html/DateTimeClasses.html)              | `timedelta64[ns]`      |"
      ],
      "metadata": {
        "id": "BATCJ6B-xV5X"
      }
    },
    {
      "cell_type": "markdown",
      "source": [
        "For discussion on Numpy data types, see: https://numpy.org/doc/stable/reference/arrays.scalars.html#sized-aliases\n",
        "\n",
        "For additional Pandas data types, see: \n",
        "https://pandas.pydata.org/docs/user_guide/basics.html#basics-dtypes"
      ],
      "metadata": {
        "id": "MApHcArqxVyU"
      }
    },
    {
      "cell_type": "markdown",
      "source": [
        "# Conversion Mapping Function"
      ],
      "metadata": {
        "id": "r4xs2L40D4H2"
      }
    },
    {
      "cell_type": "markdown",
      "source": [
        "Design a function to convert from Pandas to R data types"
      ],
      "metadata": {
        "id": "Ib8EcXsNKte9"
      }
    },
    {
      "cell_type": "code",
      "source": [
        "import pandas as pd \n",
        "\n",
        "def convert_pandas_dtype_to_r(s):\n",
        "  # Force series to avoid odd output\n",
        "  series_dtype = s.dtype\n",
        "\n",
        "  if pd.api.types.is_float_dtype(s):\n",
        "    return \"numeric\"\n",
        "  elif pd.api.types.is_integer_dtype(s):\n",
        "    return \"integer\"\n",
        "  elif pd.api.types.is_object_dtype(s) or pd.api.types.is_string_dtype(s):\n",
        "    return \"character\"\n",
        "  elif pd.api.types.is_categorical_dtype(s):\n",
        "    # Check if ordered\n",
        "    if s.cat.ordered:\n",
        "      return \"ordered factor\"\n",
        "    return \"factor\"\n",
        "  elif pd.api.types.is_bool_dtype(s):\n",
        "    return \"logical\"\n",
        "  elif pd.api.types.is_complex_dtype(s):\n",
        "    return \"complex\"\n",
        "  elif pd.api.types.is_datetime64_any_dtype(s):\n",
        "    return \"POSIXct\"\n",
        "  elif pd.api.types.is_timedelta64_dtype(s) or pd.api.types.is_period_dtype(s):\n",
        "    return \"Not supported\"\n",
        "\n",
        "  return \"Unknown\"\n",
        "  \n",
        "dft.agg([convert_pandas_dtype_to_r])"
      ],
      "metadata": {
        "colab": {
          "base_uri": "https://localhost:8080/",
          "height": 177
        },
        "id": "LNvh2Zf-D4hH",
        "outputId": "51f8aa11-2b21-4858-970f-ecd747263678"
      },
      "execution_count": 21,
      "outputs": [
        {
          "output_type": "execute_result",
          "data": {
            "text/plain": [
              "                           integer  numeric  logical  character  complex  \\\n",
              "convert_pandas_dtype_to_r  integer  numeric  logical  character  complex   \n",
              "\n",
              "                          numeric-list integer-list complex-list  \\\n",
              "convert_pandas_dtype_to_r      numeric      integer      complex   \n",
              "\n",
              "                          character-list logical-list character-string-list  \\\n",
              "convert_pandas_dtype_to_r      character      logical             character   \n",
              "\n",
              "                          POSIXct-POSIXt-timestamp POSIXct-POSIXt-date_range  \\\n",
              "convert_pandas_dtype_to_r                  POSIXct                   POSIXct   \n",
              "\n",
              "                           factor  ordered-factor  \n",
              "convert_pandas_dtype_to_r  factor  ordered factor  "
            ],
            "text/html": [
              "\n",
              "  <div id=\"df-b0b3c925-711a-43ec-b4d6-46d76d31053a\">\n",
              "    <div class=\"colab-df-container\">\n",
              "      <div>\n",
              "<style scoped>\n",
              "    .dataframe tbody tr th:only-of-type {\n",
              "        vertical-align: middle;\n",
              "    }\n",
              "\n",
              "    .dataframe tbody tr th {\n",
              "        vertical-align: top;\n",
              "    }\n",
              "\n",
              "    .dataframe thead th {\n",
              "        text-align: right;\n",
              "    }\n",
              "</style>\n",
              "<table border=\"1\" class=\"dataframe\">\n",
              "  <thead>\n",
              "    <tr style=\"text-align: right;\">\n",
              "      <th></th>\n",
              "      <th>integer</th>\n",
              "      <th>numeric</th>\n",
              "      <th>logical</th>\n",
              "      <th>character</th>\n",
              "      <th>complex</th>\n",
              "      <th>numeric-list</th>\n",
              "      <th>integer-list</th>\n",
              "      <th>complex-list</th>\n",
              "      <th>character-list</th>\n",
              "      <th>logical-list</th>\n",
              "      <th>character-string-list</th>\n",
              "      <th>POSIXct-POSIXt-timestamp</th>\n",
              "      <th>POSIXct-POSIXt-date_range</th>\n",
              "      <th>factor</th>\n",
              "      <th>ordered-factor</th>\n",
              "    </tr>\n",
              "  </thead>\n",
              "  <tbody>\n",
              "    <tr>\n",
              "      <th>convert_pandas_dtype_to_r</th>\n",
              "      <td>integer</td>\n",
              "      <td>numeric</td>\n",
              "      <td>logical</td>\n",
              "      <td>character</td>\n",
              "      <td>complex</td>\n",
              "      <td>numeric</td>\n",
              "      <td>integer</td>\n",
              "      <td>complex</td>\n",
              "      <td>character</td>\n",
              "      <td>logical</td>\n",
              "      <td>character</td>\n",
              "      <td>POSIXct</td>\n",
              "      <td>POSIXct</td>\n",
              "      <td>factor</td>\n",
              "      <td>ordered factor</td>\n",
              "    </tr>\n",
              "  </tbody>\n",
              "</table>\n",
              "</div>\n",
              "      <button class=\"colab-df-convert\" onclick=\"convertToInteractive('df-b0b3c925-711a-43ec-b4d6-46d76d31053a')\"\n",
              "              title=\"Convert this dataframe to an interactive table.\"\n",
              "              style=\"display:none;\">\n",
              "        \n",
              "  <svg xmlns=\"http://www.w3.org/2000/svg\" height=\"24px\"viewBox=\"0 0 24 24\"\n",
              "       width=\"24px\">\n",
              "    <path d=\"M0 0h24v24H0V0z\" fill=\"none\"/>\n",
              "    <path d=\"M18.56 5.44l.94 2.06.94-2.06 2.06-.94-2.06-.94-.94-2.06-.94 2.06-2.06.94zm-11 1L8.5 8.5l.94-2.06 2.06-.94-2.06-.94L8.5 2.5l-.94 2.06-2.06.94zm10 10l.94 2.06.94-2.06 2.06-.94-2.06-.94-.94-2.06-.94 2.06-2.06.94z\"/><path d=\"M17.41 7.96l-1.37-1.37c-.4-.4-.92-.59-1.43-.59-.52 0-1.04.2-1.43.59L10.3 9.45l-7.72 7.72c-.78.78-.78 2.05 0 2.83L4 21.41c.39.39.9.59 1.41.59.51 0 1.02-.2 1.41-.59l7.78-7.78 2.81-2.81c.8-.78.8-2.07 0-2.86zM5.41 20L4 18.59l7.72-7.72 1.47 1.35L5.41 20z\"/>\n",
              "  </svg>\n",
              "      </button>\n",
              "      \n",
              "  <style>\n",
              "    .colab-df-container {\n",
              "      display:flex;\n",
              "      flex-wrap:wrap;\n",
              "      gap: 12px;\n",
              "    }\n",
              "\n",
              "    .colab-df-convert {\n",
              "      background-color: #E8F0FE;\n",
              "      border: none;\n",
              "      border-radius: 50%;\n",
              "      cursor: pointer;\n",
              "      display: none;\n",
              "      fill: #1967D2;\n",
              "      height: 32px;\n",
              "      padding: 0 0 0 0;\n",
              "      width: 32px;\n",
              "    }\n",
              "\n",
              "    .colab-df-convert:hover {\n",
              "      background-color: #E2EBFA;\n",
              "      box-shadow: 0px 1px 2px rgba(60, 64, 67, 0.3), 0px 1px 3px 1px rgba(60, 64, 67, 0.15);\n",
              "      fill: #174EA6;\n",
              "    }\n",
              "\n",
              "    [theme=dark] .colab-df-convert {\n",
              "      background-color: #3B4455;\n",
              "      fill: #D2E3FC;\n",
              "    }\n",
              "\n",
              "    [theme=dark] .colab-df-convert:hover {\n",
              "      background-color: #434B5C;\n",
              "      box-shadow: 0px 1px 3px 1px rgba(0, 0, 0, 0.15);\n",
              "      filter: drop-shadow(0px 1px 2px rgba(0, 0, 0, 0.3));\n",
              "      fill: #FFFFFF;\n",
              "    }\n",
              "  </style>\n",
              "\n",
              "      <script>\n",
              "        const buttonEl =\n",
              "          document.querySelector('#df-b0b3c925-711a-43ec-b4d6-46d76d31053a button.colab-df-convert');\n",
              "        buttonEl.style.display =\n",
              "          google.colab.kernel.accessAllowed ? 'block' : 'none';\n",
              "\n",
              "        async function convertToInteractive(key) {\n",
              "          const element = document.querySelector('#df-b0b3c925-711a-43ec-b4d6-46d76d31053a');\n",
              "          const dataTable =\n",
              "            await google.colab.kernel.invokeFunction('convertToInteractive',\n",
              "                                                     [key], {});\n",
              "          if (!dataTable) return;\n",
              "\n",
              "          const docLinkHtml = 'Like what you see? Visit the ' +\n",
              "            '<a target=\"_blank\" href=https://colab.research.google.com/notebooks/data_table.ipynb>data table notebook</a>'\n",
              "            + ' to learn more about interactive tables.';\n",
              "          element.innerHTML = '';\n",
              "          dataTable['output_type'] = 'display_data';\n",
              "          await google.colab.output.renderOutput(dataTable, element);\n",
              "          const docLink = document.createElement('div');\n",
              "          docLink.innerHTML = docLinkHtml;\n",
              "          element.appendChild(docLink);\n",
              "        }\n",
              "      </script>\n",
              "    </div>\n",
              "  </div>\n",
              "  "
            ]
          },
          "metadata": {},
          "execution_count": 21
        }
      ]
    },
    {
      "cell_type": "markdown",
      "source": [
        "# Reticulate"
      ],
      "metadata": {
        "id": "sv4_nhGkyQXM"
      }
    },
    {
      "cell_type": "markdown",
      "source": [
        "Note, this must be run outside of a Jupyter Notebook!"
      ],
      "metadata": {
        "id": "iyeM5TDVzEcK"
      }
    },
    {
      "cell_type": "code",
      "source": [
        "%%R \n",
        "\n",
        "# Install reticulate\n",
        "#install.packages(\"reticulate\")\n",
        "\n",
        "# Create a conda environment\n",
        "reticulate::conda_create(\"r-reticulate\")\n",
        "\n",
        "# Install the pandas package\n",
        "reticulate::conda_install(\"r-reticulate\", \"pandas\")\n",
        "\n",
        "# Load the environment\n",
        "reticulate::use_condaenv(\"r-reticulate\")\n",
        "\n",
        "# Run\n",
        "reticulate::source_python('dtype-test.py')"
      ],
      "metadata": {
        "colab": {
          "base_uri": "https://localhost:8080/",
          "height": 852
        },
        "id": "LXsSL8bhyR_C",
        "outputId": "daa2815e-97aa-4e0d-ce1c-d25a6b795df2"
      },
      "execution_count": null,
      "outputs": [
        {
          "output_type": "stream",
          "name": "stdout",
          "text": [
            "\n",
            "    WARNING: The R package \"reticulate\" does not\n",
            "    consider that it could be called from a Python process. This\n",
            "    results in a quasi-obligatory segfault when rpy2 is evaluating\n",
            "    R code using it. On the hand, rpy2 is accounting for the\n",
            "    fact that it might already be running embedded in a Python\n",
            "    process. This is why:\n",
            "    - Python -> rpy2 -> R -> reticulate: crashes\n",
            "    - R -> reticulate -> Python -> rpy2: works\n",
            "\n",
            "    The issue with reticulate is tracked here:\n",
            "    https://github.com/rstudio/reticulate/issues/208\n",
            "    "
          ]
        },
        {
          "output_type": "stream",
          "name": "stderr",
          "text": [
            "WARNING:rpy2.rinterface_lib.callbacks:R[write to console]: Error: Unable to find conda binary. Is Anaconda installed?\n",
            "\n"
          ]
        },
        {
          "output_type": "stream",
          "name": "stdout",
          "text": [
            "\n",
            "Error: Unable to find conda binary. Is Anaconda installed?\n"
          ]
        },
        {
          "output_type": "error",
          "ename": "RInterpreterError",
          "evalue": "ignored",
          "traceback": [
            "\u001b[0;31m---------------------------------------------------------------------------\u001b[0m",
            "\u001b[0;31mRRuntimeError\u001b[0m                             Traceback (most recent call last)",
            "\u001b[0;32m/usr/local/lib/python3.8/dist-packages/rpy2/ipython/rmagic.py\u001b[0m in \u001b[0;36meval\u001b[0;34m(self, code)\u001b[0m\n\u001b[1;32m    279\u001b[0m                 \u001b[0;31m# Need the newline in case the last line in code is a comment.\u001b[0m\u001b[0;34m\u001b[0m\u001b[0;34m\u001b[0m\u001b[0;34m\u001b[0m\u001b[0m\n\u001b[0;32m--> 280\u001b[0;31m                 \u001b[0mvalue\u001b[0m\u001b[0;34m,\u001b[0m \u001b[0mvisible\u001b[0m \u001b[0;34m=\u001b[0m \u001b[0mro\u001b[0m\u001b[0;34m.\u001b[0m\u001b[0mr\u001b[0m\u001b[0;34m(\u001b[0m\u001b[0;34m\"withVisible({%s\\n})\"\u001b[0m \u001b[0;34m%\u001b[0m \u001b[0mcode\u001b[0m\u001b[0;34m)\u001b[0m\u001b[0;34m\u001b[0m\u001b[0;34m\u001b[0m\u001b[0m\n\u001b[0m\u001b[1;32m    281\u001b[0m             \u001b[0;32mexcept\u001b[0m \u001b[0;34m(\u001b[0m\u001b[0mri\u001b[0m\u001b[0;34m.\u001b[0m\u001b[0membedded\u001b[0m\u001b[0;34m.\u001b[0m\u001b[0mRRuntimeError\u001b[0m\u001b[0;34m,\u001b[0m \u001b[0mValueError\u001b[0m\u001b[0;34m)\u001b[0m \u001b[0;32mas\u001b[0m \u001b[0mexception\u001b[0m\u001b[0;34m:\u001b[0m\u001b[0;34m\u001b[0m\u001b[0;34m\u001b[0m\u001b[0m\n",
            "\u001b[0;32m/usr/local/lib/python3.8/dist-packages/rpy2/robjects/__init__.py\u001b[0m in \u001b[0;36m__call__\u001b[0;34m(self, string)\u001b[0m\n\u001b[1;32m    450\u001b[0m         \u001b[0mp\u001b[0m \u001b[0;34m=\u001b[0m \u001b[0mrinterface\u001b[0m\u001b[0;34m.\u001b[0m\u001b[0mparse\u001b[0m\u001b[0;34m(\u001b[0m\u001b[0mstring\u001b[0m\u001b[0;34m)\u001b[0m\u001b[0;34m\u001b[0m\u001b[0;34m\u001b[0m\u001b[0m\n\u001b[0;32m--> 451\u001b[0;31m         \u001b[0mres\u001b[0m \u001b[0;34m=\u001b[0m \u001b[0mself\u001b[0m\u001b[0;34m.\u001b[0m\u001b[0meval\u001b[0m\u001b[0;34m(\u001b[0m\u001b[0mp\u001b[0m\u001b[0;34m)\u001b[0m\u001b[0;34m\u001b[0m\u001b[0;34m\u001b[0m\u001b[0m\n\u001b[0m\u001b[1;32m    452\u001b[0m         \u001b[0;32mreturn\u001b[0m \u001b[0mconversion\u001b[0m\u001b[0;34m.\u001b[0m\u001b[0mrpy2py\u001b[0m\u001b[0;34m(\u001b[0m\u001b[0mres\u001b[0m\u001b[0;34m)\u001b[0m\u001b[0;34m\u001b[0m\u001b[0;34m\u001b[0m\u001b[0m\n",
            "\u001b[0;32m/usr/local/lib/python3.8/dist-packages/rpy2/robjects/functions.py\u001b[0m in \u001b[0;36m__call__\u001b[0;34m(self, *args, **kwargs)\u001b[0m\n\u001b[1;32m    200\u001b[0m                 \u001b[0mkwargs\u001b[0m\u001b[0;34m[\u001b[0m\u001b[0mr_k\u001b[0m\u001b[0;34m]\u001b[0m \u001b[0;34m=\u001b[0m \u001b[0mv\u001b[0m\u001b[0;34m\u001b[0m\u001b[0;34m\u001b[0m\u001b[0m\n\u001b[0;32m--> 201\u001b[0;31m         return (super(SignatureTranslatedFunction, self)\n\u001b[0m\u001b[1;32m    202\u001b[0m                 .__call__(*args, **kwargs))\n",
            "\u001b[0;32m/usr/local/lib/python3.8/dist-packages/rpy2/robjects/functions.py\u001b[0m in \u001b[0;36m__call__\u001b[0;34m(self, *args, **kwargs)\u001b[0m\n\u001b[1;32m    123\u001b[0m                 \u001b[0mnew_kwargs\u001b[0m\u001b[0;34m[\u001b[0m\u001b[0mk\u001b[0m\u001b[0;34m]\u001b[0m \u001b[0;34m=\u001b[0m \u001b[0mconversion\u001b[0m\u001b[0;34m.\u001b[0m\u001b[0mpy2rpy\u001b[0m\u001b[0;34m(\u001b[0m\u001b[0mv\u001b[0m\u001b[0;34m)\u001b[0m\u001b[0;34m\u001b[0m\u001b[0;34m\u001b[0m\u001b[0m\n\u001b[0;32m--> 124\u001b[0;31m         \u001b[0mres\u001b[0m \u001b[0;34m=\u001b[0m \u001b[0msuper\u001b[0m\u001b[0;34m(\u001b[0m\u001b[0mFunction\u001b[0m\u001b[0;34m,\u001b[0m \u001b[0mself\u001b[0m\u001b[0;34m)\u001b[0m\u001b[0;34m.\u001b[0m\u001b[0m__call__\u001b[0m\u001b[0;34m(\u001b[0m\u001b[0;34m*\u001b[0m\u001b[0mnew_args\u001b[0m\u001b[0;34m,\u001b[0m \u001b[0;34m**\u001b[0m\u001b[0mnew_kwargs\u001b[0m\u001b[0;34m)\u001b[0m\u001b[0;34m\u001b[0m\u001b[0;34m\u001b[0m\u001b[0m\n\u001b[0m\u001b[1;32m    125\u001b[0m         \u001b[0mres\u001b[0m \u001b[0;34m=\u001b[0m \u001b[0mconversion\u001b[0m\u001b[0;34m.\u001b[0m\u001b[0mrpy2py\u001b[0m\u001b[0;34m(\u001b[0m\u001b[0mres\u001b[0m\u001b[0;34m)\u001b[0m\u001b[0;34m\u001b[0m\u001b[0;34m\u001b[0m\u001b[0m\n",
            "\u001b[0;32m/usr/local/lib/python3.8/dist-packages/rpy2/rinterface_lib/conversion.py\u001b[0m in \u001b[0;36m_\u001b[0;34m(*args, **kwargs)\u001b[0m\n\u001b[1;32m     44\u001b[0m     \u001b[0;32mdef\u001b[0m \u001b[0m_\u001b[0m\u001b[0;34m(\u001b[0m\u001b[0;34m*\u001b[0m\u001b[0margs\u001b[0m\u001b[0;34m,\u001b[0m \u001b[0;34m**\u001b[0m\u001b[0mkwargs\u001b[0m\u001b[0;34m)\u001b[0m\u001b[0;34m:\u001b[0m\u001b[0;34m\u001b[0m\u001b[0;34m\u001b[0m\u001b[0m\n\u001b[0;32m---> 45\u001b[0;31m         \u001b[0mcdata\u001b[0m \u001b[0;34m=\u001b[0m \u001b[0mfunction\u001b[0m\u001b[0;34m(\u001b[0m\u001b[0;34m*\u001b[0m\u001b[0margs\u001b[0m\u001b[0;34m,\u001b[0m \u001b[0;34m**\u001b[0m\u001b[0mkwargs\u001b[0m\u001b[0;34m)\u001b[0m\u001b[0;34m\u001b[0m\u001b[0;34m\u001b[0m\u001b[0m\n\u001b[0m\u001b[1;32m     46\u001b[0m         \u001b[0;31m# TODO: test cdata is of the expected CType\u001b[0m\u001b[0;34m\u001b[0m\u001b[0;34m\u001b[0m\u001b[0;34m\u001b[0m\u001b[0m\n",
            "\u001b[0;32m/usr/local/lib/python3.8/dist-packages/rpy2/rinterface.py\u001b[0m in \u001b[0;36m__call__\u001b[0;34m(self, *args, **kwargs)\u001b[0m\n\u001b[1;32m    809\u001b[0m             \u001b[0;32mif\u001b[0m \u001b[0merror_occured\u001b[0m\u001b[0;34m[\u001b[0m\u001b[0;36m0\u001b[0m\u001b[0;34m]\u001b[0m\u001b[0;34m:\u001b[0m\u001b[0;34m\u001b[0m\u001b[0;34m\u001b[0m\u001b[0m\n\u001b[0;32m--> 810\u001b[0;31m                 \u001b[0;32mraise\u001b[0m \u001b[0membedded\u001b[0m\u001b[0;34m.\u001b[0m\u001b[0mRRuntimeError\u001b[0m\u001b[0;34m(\u001b[0m\u001b[0m_rinterface\u001b[0m\u001b[0;34m.\u001b[0m\u001b[0m_geterrmessage\u001b[0m\u001b[0;34m(\u001b[0m\u001b[0;34m)\u001b[0m\u001b[0;34m)\u001b[0m\u001b[0;34m\u001b[0m\u001b[0;34m\u001b[0m\u001b[0m\n\u001b[0m\u001b[1;32m    811\u001b[0m         \u001b[0;32mreturn\u001b[0m \u001b[0mres\u001b[0m\u001b[0;34m\u001b[0m\u001b[0;34m\u001b[0m\u001b[0m\n",
            "\u001b[0;31mRRuntimeError\u001b[0m: Error: Unable to find conda binary. Is Anaconda installed?\n",
            "\nDuring handling of the above exception, another exception occurred:\n",
            "\u001b[0;31mRInterpreterError\u001b[0m                         Traceback (most recent call last)",
            "\u001b[0;32m<ipython-input-15-5147c573f1b7>\u001b[0m in \u001b[0;36m<module>\u001b[0;34m\u001b[0m\n\u001b[0;32m----> 1\u001b[0;31m \u001b[0mget_ipython\u001b[0m\u001b[0;34m(\u001b[0m\u001b[0;34m)\u001b[0m\u001b[0;34m.\u001b[0m\u001b[0mrun_cell_magic\u001b[0m\u001b[0;34m(\u001b[0m\u001b[0;34m'R'\u001b[0m\u001b[0;34m,\u001b[0m \u001b[0;34m''\u001b[0m\u001b[0;34m,\u001b[0m \u001b[0;34m'\\n# Install reticulate\\n#install.packages(\"reticulate\")\\n\\n# Create a conda environment\\nreticulate::conda_create(\"r-reticulate\")\\n\\n# Install the pandas package\\nreticulate::conda_install(\"r-reticulate\", \"pandas\")\\n\\n# Load the environment\\nreticulate::use_condaenv(\"r-reticulate\")\\n\\n# Run\\nreticulate::source_python(\\'dtype-test.py\\')\\n'\u001b[0m\u001b[0;34m)\u001b[0m\u001b[0;34m\u001b[0m\u001b[0;34m\u001b[0m\u001b[0m\n\u001b[0m",
            "\u001b[0;32m/usr/local/lib/python3.8/dist-packages/IPython/core/interactiveshell.py\u001b[0m in \u001b[0;36mrun_cell_magic\u001b[0;34m(self, magic_name, line, cell)\u001b[0m\n\u001b[1;32m   2357\u001b[0m             \u001b[0;32mwith\u001b[0m \u001b[0mself\u001b[0m\u001b[0;34m.\u001b[0m\u001b[0mbuiltin_trap\u001b[0m\u001b[0;34m:\u001b[0m\u001b[0;34m\u001b[0m\u001b[0;34m\u001b[0m\u001b[0m\n\u001b[1;32m   2358\u001b[0m                 \u001b[0margs\u001b[0m \u001b[0;34m=\u001b[0m \u001b[0;34m(\u001b[0m\u001b[0mmagic_arg_s\u001b[0m\u001b[0;34m,\u001b[0m \u001b[0mcell\u001b[0m\u001b[0;34m)\u001b[0m\u001b[0;34m\u001b[0m\u001b[0;34m\u001b[0m\u001b[0m\n\u001b[0;32m-> 2359\u001b[0;31m                 \u001b[0mresult\u001b[0m \u001b[0;34m=\u001b[0m \u001b[0mfn\u001b[0m\u001b[0;34m(\u001b[0m\u001b[0;34m*\u001b[0m\u001b[0margs\u001b[0m\u001b[0;34m,\u001b[0m \u001b[0;34m**\u001b[0m\u001b[0mkwargs\u001b[0m\u001b[0;34m)\u001b[0m\u001b[0;34m\u001b[0m\u001b[0;34m\u001b[0m\u001b[0m\n\u001b[0m\u001b[1;32m   2360\u001b[0m             \u001b[0;32mreturn\u001b[0m \u001b[0mresult\u001b[0m\u001b[0;34m\u001b[0m\u001b[0;34m\u001b[0m\u001b[0m\n\u001b[1;32m   2361\u001b[0m \u001b[0;34m\u001b[0m\u001b[0m\n",
            "\u001b[0;32m<decorator-gen-122>\u001b[0m in \u001b[0;36mR\u001b[0;34m(self, line, cell, local_ns)\u001b[0m\n",
            "\u001b[0;32m/usr/local/lib/python3.8/dist-packages/IPython/core/magic.py\u001b[0m in \u001b[0;36m<lambda>\u001b[0;34m(f, *a, **k)\u001b[0m\n\u001b[1;32m    185\u001b[0m     \u001b[0;31m# but it's overkill for just that one bit of state.\u001b[0m\u001b[0;34m\u001b[0m\u001b[0;34m\u001b[0m\u001b[0;34m\u001b[0m\u001b[0m\n\u001b[1;32m    186\u001b[0m     \u001b[0;32mdef\u001b[0m \u001b[0mmagic_deco\u001b[0m\u001b[0;34m(\u001b[0m\u001b[0marg\u001b[0m\u001b[0;34m)\u001b[0m\u001b[0;34m:\u001b[0m\u001b[0;34m\u001b[0m\u001b[0;34m\u001b[0m\u001b[0m\n\u001b[0;32m--> 187\u001b[0;31m         \u001b[0mcall\u001b[0m \u001b[0;34m=\u001b[0m \u001b[0;32mlambda\u001b[0m \u001b[0mf\u001b[0m\u001b[0;34m,\u001b[0m \u001b[0;34m*\u001b[0m\u001b[0ma\u001b[0m\u001b[0;34m,\u001b[0m \u001b[0;34m**\u001b[0m\u001b[0mk\u001b[0m\u001b[0;34m:\u001b[0m \u001b[0mf\u001b[0m\u001b[0;34m(\u001b[0m\u001b[0;34m*\u001b[0m\u001b[0ma\u001b[0m\u001b[0;34m,\u001b[0m \u001b[0;34m**\u001b[0m\u001b[0mk\u001b[0m\u001b[0;34m)\u001b[0m\u001b[0;34m\u001b[0m\u001b[0;34m\u001b[0m\u001b[0m\n\u001b[0m\u001b[1;32m    188\u001b[0m \u001b[0;34m\u001b[0m\u001b[0m\n\u001b[1;32m    189\u001b[0m         \u001b[0;32mif\u001b[0m \u001b[0mcallable\u001b[0m\u001b[0;34m(\u001b[0m\u001b[0marg\u001b[0m\u001b[0;34m)\u001b[0m\u001b[0;34m:\u001b[0m\u001b[0;34m\u001b[0m\u001b[0;34m\u001b[0m\u001b[0m\n",
            "\u001b[0;32m/usr/local/lib/python3.8/dist-packages/rpy2/ipython/rmagic.py\u001b[0m in \u001b[0;36mR\u001b[0;34m(self, line, cell, local_ns)\u001b[0m\n\u001b[1;32m    793\u001b[0m             \u001b[0;32mif\u001b[0m \u001b[0;32mnot\u001b[0m \u001b[0me\u001b[0m\u001b[0;34m.\u001b[0m\u001b[0mstdout\u001b[0m\u001b[0;34m.\u001b[0m\u001b[0mendswith\u001b[0m\u001b[0;34m(\u001b[0m\u001b[0me\u001b[0m\u001b[0;34m.\u001b[0m\u001b[0merr\u001b[0m\u001b[0;34m)\u001b[0m\u001b[0;34m:\u001b[0m\u001b[0;34m\u001b[0m\u001b[0;34m\u001b[0m\u001b[0m\n\u001b[1;32m    794\u001b[0m                 \u001b[0mprint\u001b[0m\u001b[0;34m(\u001b[0m\u001b[0me\u001b[0m\u001b[0;34m.\u001b[0m\u001b[0merr\u001b[0m\u001b[0;34m)\u001b[0m\u001b[0;34m\u001b[0m\u001b[0;34m\u001b[0m\u001b[0m\n\u001b[0;32m--> 795\u001b[0;31m             \u001b[0;32mraise\u001b[0m \u001b[0me\u001b[0m\u001b[0;34m\u001b[0m\u001b[0;34m\u001b[0m\u001b[0m\n\u001b[0m\u001b[1;32m    796\u001b[0m         \u001b[0;32mfinally\u001b[0m\u001b[0;34m:\u001b[0m\u001b[0;34m\u001b[0m\u001b[0;34m\u001b[0m\u001b[0m\n\u001b[1;32m    797\u001b[0m             \u001b[0;32mif\u001b[0m \u001b[0mself\u001b[0m\u001b[0;34m.\u001b[0m\u001b[0mdevice\u001b[0m \u001b[0;32min\u001b[0m \u001b[0;34m[\u001b[0m\u001b[0;34m'png'\u001b[0m\u001b[0;34m,\u001b[0m \u001b[0;34m'svg'\u001b[0m\u001b[0;34m]\u001b[0m\u001b[0;34m:\u001b[0m\u001b[0;34m\u001b[0m\u001b[0;34m\u001b[0m\u001b[0m\n",
            "\u001b[0;32m/usr/local/lib/python3.8/dist-packages/rpy2/ipython/rmagic.py\u001b[0m in \u001b[0;36mR\u001b[0;34m(self, line, cell, local_ns)\u001b[0m\n\u001b[1;32m    773\u001b[0m                     \u001b[0mreturn_output\u001b[0m \u001b[0;34m=\u001b[0m \u001b[0;32mFalse\u001b[0m\u001b[0;34m\u001b[0m\u001b[0;34m\u001b[0m\u001b[0m\n\u001b[1;32m    774\u001b[0m             \u001b[0;32melse\u001b[0m\u001b[0;34m:\u001b[0m\u001b[0;34m\u001b[0m\u001b[0;34m\u001b[0m\u001b[0m\n\u001b[0;32m--> 775\u001b[0;31m                 \u001b[0mtext_result\u001b[0m\u001b[0;34m,\u001b[0m \u001b[0mresult\u001b[0m\u001b[0;34m,\u001b[0m \u001b[0mvisible\u001b[0m \u001b[0;34m=\u001b[0m \u001b[0mself\u001b[0m\u001b[0;34m.\u001b[0m\u001b[0meval\u001b[0m\u001b[0;34m(\u001b[0m\u001b[0mcode\u001b[0m\u001b[0;34m)\u001b[0m\u001b[0;34m\u001b[0m\u001b[0;34m\u001b[0m\u001b[0m\n\u001b[0m\u001b[1;32m    776\u001b[0m                 \u001b[0mtext_output\u001b[0m \u001b[0;34m+=\u001b[0m \u001b[0mtext_result\u001b[0m\u001b[0;34m\u001b[0m\u001b[0;34m\u001b[0m\u001b[0m\n\u001b[1;32m    777\u001b[0m                 \u001b[0;32mif\u001b[0m \u001b[0mvisible\u001b[0m\u001b[0;34m:\u001b[0m\u001b[0;34m\u001b[0m\u001b[0;34m\u001b[0m\u001b[0m\n",
            "\u001b[0;32m/usr/local/lib/python3.8/dist-packages/rpy2/ipython/rmagic.py\u001b[0m in \u001b[0;36meval\u001b[0;34m(self, code)\u001b[0m\n\u001b[1;32m    282\u001b[0m                 \u001b[0;31m# Otherwise next return seems to have copy of error.\u001b[0m\u001b[0;34m\u001b[0m\u001b[0;34m\u001b[0m\u001b[0;34m\u001b[0m\u001b[0m\n\u001b[1;32m    283\u001b[0m                 \u001b[0mwarning_or_other_msg\u001b[0m \u001b[0;34m=\u001b[0m \u001b[0mself\u001b[0m\u001b[0;34m.\u001b[0m\u001b[0mflush\u001b[0m\u001b[0;34m(\u001b[0m\u001b[0;34m)\u001b[0m\u001b[0;34m\u001b[0m\u001b[0;34m\u001b[0m\u001b[0m\n\u001b[0;32m--> 284\u001b[0;31m                 raise RInterpreterError(code, str(exception),\n\u001b[0m\u001b[1;32m    285\u001b[0m                                         warning_or_other_msg)\n\u001b[1;32m    286\u001b[0m             \u001b[0mtext_output\u001b[0m \u001b[0;34m=\u001b[0m \u001b[0mself\u001b[0m\u001b[0;34m.\u001b[0m\u001b[0mflush\u001b[0m\u001b[0;34m(\u001b[0m\u001b[0;34m)\u001b[0m\u001b[0;34m\u001b[0m\u001b[0;34m\u001b[0m\u001b[0m\n",
            "\u001b[0;31mRInterpreterError\u001b[0m: Failed to parse and evaluate line '\\n# Install reticulate\\n#install.packages(\"reticulate\")\\n\\n# Create a conda environment\\nreticulate::conda_create(\"r-reticulate\")\\n\\n# Install the pandas package\\nreticulate::conda_install(\"r-reticulate\", \"pandas\")\\n\\n# Load the environment\\nreticulate::use_condaenv(\"r-reticulate\")\\n\\n# Run\\nreticulate::source_python(\\'dtype-test.py\\')\\n'.\nR error message: 'Error: Unable to find conda binary. Is Anaconda installed?'"
          ]
        }
      ]
    }
  ]
}
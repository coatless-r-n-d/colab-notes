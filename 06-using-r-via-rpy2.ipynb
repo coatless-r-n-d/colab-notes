{
  "nbformat": 4,
  "nbformat_minor": 0,
  "metadata": {
    "colab": {
      "provenance": [],
      "authorship_tag": "ABX9TyNJ2L0vUZKVb3pUUowA8oln",
      "include_colab_link": true
    },
    "kernelspec": {
      "name": "python3",
      "display_name": "Python 3"
    },
    "language_info": {
      "name": "python"
    }
  },
  "cells": [
    {
      "cell_type": "markdown",
      "metadata": {
        "id": "view-in-github",
        "colab_type": "text"
      },
      "source": [
        "<a href=\"https://colab.research.google.com/github/coatless-r-n-d/colab-notes/blob/main/06-using-r-via-rpy2.ipynb\" target=\"_parent\"><img src=\"https://colab.research.google.com/assets/colab-badge.svg\" alt=\"Open In Colab\"/></a>"
      ]
    },
    {
      "cell_type": "markdown",
      "source": [
        "# rpy2: Interfacing with R in Jupyter Notebook"
      ],
      "metadata": {
        "id": "hoP2JrchnUdb"
      }
    },
    {
      "cell_type": "markdown",
      "source": [
        "If we wanted to use additional languages, we would need to verify that a Jupyter extension exists to change the specific cell type. In the case of _R_, we can incorporate _R_ code using the [`{rpy2}`](https://rpy2.github.io/) bridge. This requires installing the package via `pip`:"
      ],
      "metadata": {
        "id": "blI5oDP3j3s2"
      }
    },
    {
      "cell_type": "code",
      "source": [
        "!pip install rpy2"
      ],
      "metadata": {
        "colab": {
          "base_uri": "https://localhost:8080/"
        },
        "id": "I5vmEj9hl-fk",
        "outputId": "7effec75-c5a4-4fbb-9932-19bbe894da09"
      },
      "execution_count": 1,
      "outputs": [
        {
          "output_type": "stream",
          "name": "stdout",
          "text": [
            "Requirement already satisfied: rpy2 in /usr/local/lib/python3.10/dist-packages (3.4.2)\n",
            "Requirement already satisfied: cffi>=1.10.0 in /usr/local/lib/python3.10/dist-packages (from rpy2) (1.17.1)\n",
            "Requirement already satisfied: jinja2 in /usr/local/lib/python3.10/dist-packages (from rpy2) (3.1.4)\n",
            "Requirement already satisfied: pytz in /usr/local/lib/python3.10/dist-packages (from rpy2) (2024.2)\n",
            "Requirement already satisfied: tzlocal in /usr/local/lib/python3.10/dist-packages (from rpy2) (5.2)\n",
            "Requirement already satisfied: pycparser in /usr/local/lib/python3.10/dist-packages (from cffi>=1.10.0->rpy2) (2.22)\n",
            "Requirement already satisfied: MarkupSafe>=2.0 in /usr/local/lib/python3.10/dist-packages (from jinja2->rpy2) (3.0.2)\n"
          ]
        }
      ]
    },
    {
      "cell_type": "markdown",
      "source": [
        "**Important:** Due to changes in Pandas 2.0, we will need to define `iteritems` when we load pandas for the automatic data frame conversion."
      ],
      "metadata": {
        "id": "w4l5JTOToyZ7"
      }
    },
    {
      "cell_type": "markdown",
      "source": [
        "Once the package is installed, we need to load the [Jupyter extension](https://ipython.readthedocs.io/en/stable/config/extensions/index.html) with:"
      ],
      "metadata": {
        "id": "g8hBJ_KxmEOZ"
      }
    },
    {
      "cell_type": "code",
      "source": [
        "%reload_ext rpy2.ipython"
      ],
      "metadata": {
        "id": "uK6NIYilj1Z2"
      },
      "execution_count": 2,
      "outputs": []
    },
    {
      "cell_type": "markdown",
      "source": [
        "## rpy2 magic commands"
      ],
      "metadata": {
        "id": "DcttOUGAhKqa"
      }
    },
    {
      "cell_type": "markdown",
      "source": [
        "Magic commands are used to change the behavior of Jupyter notebook code cell.\n",
        "With `rpy2`, we have [R magic commands](https://rpy2.github.io/doc/latest/html/interactive.html) to run R code. In particular:\n",
        "\n",
        "- `%%R`: Run R code in cell\n",
        "- `%R`: Run single line of R code\n",
        "- `-i`: Pass variables from Python to R\n",
        "- `-o`: Return variables from R to Python"
      ],
      "metadata": {
        "id": "QAJLa3FZhSoM"
      }
    },
    {
      "cell_type": "markdown",
      "source": [
        "### Inline"
      ],
      "metadata": {
        "id": "VHoFzCg-h3gq"
      }
    },
    {
      "cell_type": "markdown",
      "source": [
        "For example, we can define a new variable `x` in R and, then, export it to Python:"
      ],
      "metadata": {
        "id": "-RbhU891h425"
      }
    },
    {
      "cell_type": "code",
      "source": [
        "%R x <- c(1, 2, 3) -o x\n",
        "\n",
        "# Verify in cell it works by using a list comprehension:\n",
        "[f\"{i}: {x[i]}\" for i in range(len(x))]"
      ],
      "metadata": {
        "colab": {
          "base_uri": "https://localhost:8080/"
        },
        "id": "85mIEh6ghSDo",
        "outputId": "d55f3a6f-b4f7-4aca-fb33-76daf994ad7c"
      },
      "execution_count": 3,
      "outputs": [
        {
          "output_type": "execute_result",
          "data": {
            "text/plain": [
              "['0: 1.0', '1: 2.0', '2: 3.0']"
            ]
          },
          "metadata": {},
          "execution_count": 3
        }
      ]
    },
    {
      "cell_type": "markdown",
      "source": [
        "The `-o` serializes the object from R into Python. So, we can then use Python to access the variable"
      ],
      "metadata": {
        "id": "azFtD9yXh9I5"
      }
    },
    {
      "cell_type": "code",
      "source": [
        "# Python code\n",
        "x"
      ],
      "metadata": {
        "colab": {
          "base_uri": "https://localhost:8080/"
        },
        "id": "XeoYpwrnhXkX",
        "outputId": "c865d459-edc1-4266-af5d-44a43910a5bc"
      },
      "execution_count": 4,
      "outputs": [
        {
          "output_type": "execute_result",
          "data": {
            "text/plain": [
              "array([1., 2., 3.])"
            ]
          },
          "metadata": {},
          "execution_count": 4
        }
      ]
    },
    {
      "cell_type": "markdown",
      "source": [
        "### Full cell"
      ],
      "metadata": {
        "id": "_WFk-Kk-kBIr"
      }
    },
    {
      "cell_type": "markdown",
      "source": [
        "By switching to `%%R`, we can use a Jupyter code cell like a normal full feature R cell:"
      ],
      "metadata": {
        "id": "gJI0HTrxjYAy"
      }
    },
    {
      "cell_type": "code",
      "source": [
        "%%R\n",
        "library(ggplot2)\n",
        "\n",
        "print(paste0(\"The mean of x is: \", mean(x)))\n",
        "\n",
        "df <- data.frame(x = x, y = x)\n",
        "\n",
        "ggplot(df) +\n",
        "  aes(x, y) +\n",
        "  geom_point() +\n",
        "  geom_line() +\n",
        "  labs(\n",
        "    title = \"My Plot\",\n",
        "    x = \"x\",\n",
        "    y = \"y\"\n",
        "  )"
      ],
      "metadata": {
        "colab": {
          "base_uri": "https://localhost:8080/",
          "height": 514
        },
        "id": "l6hIufBOjXxG",
        "outputId": "47d0bddb-3996-4853-96a6-173ef3b1e1f1"
      },
      "execution_count": 5,
      "outputs": [
        {
          "output_type": "stream",
          "name": "stdout",
          "text": [
            "[1] \"The mean of x is: 2\"\n"
          ]
        },
        {
          "output_type": "display_data",
          "data": {
            "image/png": "[encoded data removed]"
          },
          "metadata": {}
        }
      ]
    },
    {
      "cell_type": "markdown",
      "source": [
        "Then, we can **write** and **run** any _R_ code we deem feasible."
      ],
      "metadata": {
        "id": "4O9VdGpGmM0a"
      }
    },
    {
      "cell_type": "code",
      "source": [
        "%%R\n",
        "\n",
        "# Create a data frame\n",
        "my_df <- data.frame(\n",
        "    independent_data = c(1, 2, 3),\n",
        "    dependent_data = c(4, 5, 6)\n",
        ")\n",
        "\n",
        "summary(my_df)\n"
      ],
      "metadata": {
        "colab": {
          "base_uri": "https://localhost:8080/"
        },
        "id": "mTV6VYuEjtvx",
        "outputId": "a63372c7-a319-40f1-d70c-bb1e12ff13a5"
      },
      "execution_count": 6,
      "outputs": [
        {
          "output_type": "stream",
          "name": "stdout",
          "text": [
            " independent_data dependent_data\n",
            " Min.   :1.0      Min.   :4.0   \n",
            " 1st Qu.:1.5      1st Qu.:4.5   \n",
            " Median :2.0      Median :5.0   \n",
            " Mean   :2.0      Mean   :5.0   \n",
            " 3rd Qu.:2.5      3rd Qu.:5.5   \n",
            " Max.   :3.0      Max.   :6.0   \n"
          ]
        }
      ]
    },
    {
      "cell_type": "markdown",
      "source": [
        "Objects defined in prior R code cells will be carried forward with the same state."
      ],
      "metadata": {
        "id": "yNPtuawIkuaO"
      }
    },
    {
      "cell_type": "code",
      "source": [
        "%%R\n",
        "\n",
        "# Load the ggplot2 library\n",
        "library(ggplot2)\n",
        "\n",
        "# Graph the data\n",
        "ggplot(my_df) +\n",
        "  aes(x = independent_data,\n",
        "      y = dependent_data) +\n",
        "  geom_point() +\n",
        "  geom_line()"
      ],
      "metadata": {
        "colab": {
          "base_uri": "https://localhost:8080/",
          "height": 497
        },
        "id": "ZvBT3jBpnNFa",
        "outputId": "c18015ec-dc34-4dc8-a5b7-2f78df59e8d8"
      },
      "execution_count": 7,
      "outputs": [
        {
          "output_type": "display_data",
          "data": {
            "image/png": "[encoded data removed]"
          },
          "metadata": {}
        }
      ]
    },
    {
      "cell_type": "markdown",
      "source": [
        "#### Your Turn: Create a code chunk!\n",
        "\n",
        "Write two different code cells that\n",
        "\n",
        "1. Print out separately the mean and standard deviation of `x` in `my_df`.\n",
        "2. Contains _R_ code with an error.\n",
        "\n",
        "What happens when each cell executes? How does this relate to the native execution of Python code?"
      ],
      "metadata": {
        "id": "HekUVqsZ21Dq"
      }
    },
    {
      "cell_type": "code",
      "source": [
        "# Code here"
      ],
      "metadata": {
        "id": "ec9zNm3btMSc"
      },
      "execution_count": null,
      "outputs": []
    },
    {
      "cell_type": "markdown",
      "source": [
        "## Direct Interface"
      ],
      "metadata": {
        "id": "yjdcYGIBlHAg"
      }
    },
    {
      "cell_type": "markdown",
      "source": [
        "We can permenantly remain inside of Python by using `rpy2`'s Python API to generate R objects, graphs, and more without writing R code!"
      ],
      "metadata": {
        "id": "Wgo1MpNKlPZ9"
      }
    },
    {
      "cell_type": "code",
      "source": [
        "import rpy2.robjects as robjects\n",
        "from rpy2.robjects.packages import importr\n",
        "from rpy2.robjects import pandas2ri\n",
        "\n",
        "# Import essential R packages\n",
        "stats = importr('stats')\n",
        "base = importr('base')\n",
        "\n",
        "# Enable automatic pandas conversion\n",
        "pandas2ri.activate()\n",
        "\n",
        "# Create an R vector\n",
        "x = robjects.FloatVector([1.1, 2.2, 3.3])\n",
        "\n",
        "# Run R code as a string\n",
        "result = robjects.r('''\n",
        "    x <- c(1.1, 2.2, 3.3)\n",
        "    mean(x)\n",
        "''')\n",
        "\n",
        "# Show the result from running string text\n",
        "print(result)\n",
        "\n",
        "# Call the R function directly\n",
        "mean_result = base.mean(x)\n",
        "\n",
        "print(mean_result)"
      ],
      "metadata": {
        "colab": {
          "base_uri": "https://localhost:8080/"
        },
        "id": "LiA9rLCPlGhY",
        "outputId": "f8ecb4cb-0902-4a60-8846-c2ec141eaa66"
      },
      "execution_count": 8,
      "outputs": [
        {
          "output_type": "stream",
          "name": "stdout",
          "text": [
            "[2.2]\n",
            "[2.2]\n"
          ]
        }
      ]
    },
    {
      "cell_type": "markdown",
      "source": [
        "## R DataFrame to Pandas"
      ],
      "metadata": {
        "id": "7kmpSU75nOdY"
      }
    },
    {
      "cell_type": "markdown",
      "source": [
        "The interface further allows us to automatically convert between an R data frame and a Pandas Data Frame in python."
      ],
      "metadata": {
        "id": "qBl_InN-svyv"
      }
    },
    {
      "cell_type": "code",
      "source": [
        "import pandas as pd\n",
        "# Required for >= Pandas 2.0\n",
        "pd.DataFrame.iteritems = pd.DataFrame.items\n",
        "# Custom definition\n",
        "\n",
        "# Load required rpy2 modules\n",
        "import rpy2.robjects as robjects\n",
        "from rpy2.robjects import pandas2ri\n",
        "\n",
        "# Active Pandas DataFrame to R conversion\n",
        "pandas2ri.activate()\n",
        "\n",
        "# Define the data frame in Python\n",
        "df = pd.DataFrame({'x': [1,2,3], 'y': ['a', 'b', 'c']})\n",
        "\n",
        "# Convert it to R\n",
        "r_dataframe = robjects.conversion.py2rpy(df)\n",
        "\n",
        "# Use R functions on the data\n",
        "r_code = '''\n",
        "    function(df) {\n",
        "        summary(df)\n",
        "    }\n",
        "'''\n",
        "\n",
        "# Initialize an R function while in Python\n",
        "r_function = robjects.r(r_code)\n",
        "\n",
        "# Apply the function created in R through Python\n",
        "result = r_function(r_dataframe)\n",
        "print(result)"
      ],
      "metadata": {
        "colab": {
          "base_uri": "https://localhost:8080/"
        },
        "id": "pH83FXNqnRGY",
        "outputId": "b5e6e023-b50c-4fb8-9370-cedb5010b8e8"
      },
      "execution_count": 13,
      "outputs": [
        {
          "output_type": "stream",
          "name": "stdout",
          "text": [
            "       x            y            \n",
            " Min.   :1.0   Length:3          \n",
            " 1st Qu.:1.5   Class :character  \n",
            " Median :2.0   Mode  :character  \n",
            " Mean   :2.0                     \n",
            " 3rd Qu.:2.5                     \n",
            " Max.   :3.0                     \n",
            "\n"
          ]
        }
      ]
    }
  ]
}
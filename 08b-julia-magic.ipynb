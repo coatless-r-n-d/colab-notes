{
  "nbformat": 4,
  "nbformat_minor": 0,
  "metadata": {
    "colab": {
      "provenance": [],
      "authorship_tag": "ABX9TyOYO4pxJ+gALCxC7OTgJeTq",
      "include_colab_link": true
    },
    "kernelspec": {
      "name": "python3",
      "display_name": "Python 3"
    },
    "language_info": {
      "name": "python"
    }
  },
  "cells": [
    {
      "cell_type": "markdown",
      "metadata": {
        "id": "view-in-github",
        "colab_type": "text"
      },
      "source": [
        "<a href=\"https://colab.research.google.com/github/coatless-r-n-d/colab-notes/blob/main/08b-julia-magic.ipynb\" target=\"_parent\"><img src=\"https://colab.research.google.com/assets/colab-badge.svg\" alt=\"Open In Colab\"/></a>"
      ]
    },
    {
      "cell_type": "markdown",
      "source": [
        "## Setup Julia"
      ],
      "metadata": {
        "id": "5JQrDeSdruve"
      }
    },
    {
      "cell_type": "code",
      "source": [
        "%%bash\n",
        "wget -qqq https://julialang-s3.julialang.org/bin/linux/x64/1.11/julia-1.11.1-linux-x86_64.tar.gz\n",
        "tar zxf julia-1.11.1-linux-x86_64.tar.gz\n",
        "pip install -qqq julia"
      ],
      "metadata": {
        "colab": {
          "base_uri": "https://localhost:8080/"
        },
        "id": "LSJp4E_Jmgur",
        "outputId": "b55bb13c-9b18-4225-f7ba-902f3af9f398"
      },
      "execution_count": 1,
      "outputs": [
        {
          "output_type": "stream",
          "name": "stdout",
          "text": [
            "   ━━━━━━━━━━━━━━━━━━━━━━━━━━━━━━━━━━━━━━━━ 68.8/68.8 kB 1.8 MB/s eta 0:00:00\n"
          ]
        }
      ]
    },
    {
      "cell_type": "markdown",
      "source": [
        "## Setup Magic"
      ],
      "metadata": {
        "id": "j2FAdGnCrwrI"
      }
    },
    {
      "cell_type": "code",
      "source": [
        "import julia\n",
        "julia.install(julia = \"/content/julia-1.11.1/bin/julia\")\n",
        "from julia import Julia\n",
        "jl = Julia(runtime=\"/content/julia-1.11.1/bin/julia\",compiled_modules=False)\n",
        "%load_ext julia.magic"
      ],
      "metadata": {
        "id": "Z9Nih_cEmD7M"
      },
      "execution_count": null,
      "outputs": []
    },
    {
      "cell_type": "code",
      "source": [
        "# `compiled_modules = FALSE` is required since\n",
        "# libpython is missing from below\n",
        "!ldd /usr/bin/python3"
      ],
      "metadata": {
        "id": "0eV-dCqsspwJ"
      },
      "execution_count": null,
      "outputs": []
    },
    {
      "cell_type": "markdown",
      "source": [
        "## Verify"
      ],
      "metadata": {
        "id": "MAa4WD2mrzZC"
      }
    },
    {
      "cell_type": "code",
      "execution_count": null,
      "metadata": {
        "id": "tp8vXwrhl8JV"
      },
      "outputs": [],
      "source": [
        "%%julia\n",
        "println(\"Hello from Julia!\")"
      ]
    }
  ]
}
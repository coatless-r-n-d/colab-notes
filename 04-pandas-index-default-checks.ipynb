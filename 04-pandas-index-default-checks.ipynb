{
  "nbformat": 4,
  "nbformat_minor": 0,
  "metadata": {
    "colab": {
      "provenance": [],
      "authorship_tag": "ABX9TyM22NqQR91eMojqeY9KUBJj",
      "include_colab_link": true
    },
    "kernelspec": {
      "name": "python3",
      "display_name": "Python 3"
    },
    "language_info": {
      "name": "python"
    }
  },
  "cells": [
    {
      "cell_type": "markdown",
      "metadata": {
        "id": "view-in-github",
        "colab_type": "text"
      },
      "source": [
        "<a href=\"https://colab.research.google.com/github/coatless/colab-notes/blob/main/04-pandas-index-default-checks.ipynb\" target=\"_parent\"><img src=\"https://colab.research.google.com/assets/colab-badge.svg\" alt=\"Open In Colab\"/></a>"
      ]
    },
    {
      "cell_type": "markdown",
      "source": [
        "# (Aside) Upgrade pandas to 1.5 or higher"
      ],
      "metadata": {
        "id": "Eqk0j_VuIEbE"
      }
    },
    {
      "cell_type": "markdown",
      "source": [
        "We're targetting features in Pandas v1.5 as of this note, the colab version sits at: 1.3.5.\n",
        "\n",
        "Pandas requires version '3.0.0' or newer of 'jinja2' (version '2.11.3' currently installed)"
      ],
      "metadata": {
        "id": "Vxkm_PexIHeG"
      }
    },
    {
      "cell_type": "code",
      "source": [
        "!pip install pandas==1.5.2 Jinja2==3.0.0"
      ],
      "metadata": {
        "colab": {
          "base_uri": "https://localhost:8080/"
        },
        "id": "OzQV4U2MH4Ii",
        "outputId": "8da33e9d-d1d6-4356-dd1f-91454797e004"
      },
      "execution_count": null,
      "outputs": [
        {
          "output_type": "stream",
          "name": "stdout",
          "text": [
            "Looking in indexes: https://pypi.org/simple, https://us-python.pkg.dev/colab-wheels/public/simple/\n",
            "Collecting pandas==1.5.2\n",
            "  Downloading pandas-1.5.2-cp38-cp38-manylinux_2_17_x86_64.manylinux2014_x86_64.whl (12.2 MB)\n",
            "\u001b[2K     \u001b[90m━━━━━━━━━━━━━━━━━━━━━━━━━━━━━━━━━━━━━━━━\u001b[0m \u001b[32m12.2/12.2 MB\u001b[0m \u001b[31m40.4 MB/s\u001b[0m eta \u001b[36m0:00:00\u001b[0m\n",
            "\u001b[?25hCollecting Jinja2==3.0.0\n",
            "  Downloading Jinja2-3.0.0-py3-none-any.whl (133 kB)\n",
            "\u001b[2K     \u001b[90m━━━━━━━━━━━━━━━━━━━━━━━━━━━━━━━━━━━━━━━\u001b[0m \u001b[32m133.4/133.4 KB\u001b[0m \u001b[31m6.9 MB/s\u001b[0m eta \u001b[36m0:00:00\u001b[0m\n",
            "\u001b[?25hRequirement already satisfied: numpy>=1.20.3 in /usr/local/lib/python3.8/dist-packages (from pandas==1.5.2) (1.21.6)\n",
            "Requirement already satisfied: python-dateutil>=2.8.1 in /usr/local/lib/python3.8/dist-packages (from pandas==1.5.2) (2.8.2)\n",
            "Requirement already satisfied: pytz>=2020.1 in /usr/local/lib/python3.8/dist-packages (from pandas==1.5.2) (2022.7)\n",
            "Requirement already satisfied: MarkupSafe>=2.0.0rc2 in /usr/local/lib/python3.8/dist-packages (from Jinja2==3.0.0) (2.0.1)\n",
            "Requirement already satisfied: six>=1.5 in /usr/local/lib/python3.8/dist-packages (from python-dateutil>=2.8.1->pandas==1.5.2) (1.15.0)\n",
            "Installing collected packages: Jinja2, pandas\n",
            "  Attempting uninstall: Jinja2\n",
            "    Found existing installation: Jinja2 2.11.3\n",
            "    Uninstalling Jinja2-2.11.3:\n",
            "      Successfully uninstalled Jinja2-2.11.3\n",
            "  Attempting uninstall: pandas\n",
            "    Found existing installation: pandas 1.3.5\n",
            "    Uninstalling pandas-1.3.5:\n",
            "      Successfully uninstalled pandas-1.3.5\n",
            "\u001b[31mERROR: pip's dependency resolver does not currently take into account all the packages that are installed. This behaviour is the source of the following dependency conflicts.\n",
            "flask 1.1.4 requires Jinja2<3.0,>=2.10.1, but you have jinja2 3.0.0 which is incompatible.\u001b[0m\u001b[31m\n",
            "\u001b[0mSuccessfully installed Jinja2-3.0.0 pandas-1.5.2\n"
          ]
        }
      ]
    },
    {
      "cell_type": "markdown",
      "source": [
        "# Index Styling"
      ],
      "metadata": {
        "id": "5eQr9mCSWwBu"
      }
    },
    {
      "cell_type": "markdown",
      "source": [
        "How should we decide when to apply a 0-based index remap? \n",
        "\n",
        "- Check if index is not numeric\n",
        "- Check if numeric index is not default"
      ],
      "metadata": {
        "id": "Vi5mmIZnW275"
      }
    },
    {
      "cell_type": "code",
      "source": [
        "import pandas as pd\n",
        "\n",
        "df = pd.DataFrame([[1, \"tall\"], [2, \"small\"], [3, \"normal\"]],\n",
        "               columns=[\"id\", \"height\"])\n",
        "\n",
        "df_abc = df.copy()\n",
        "df_one_based = df.copy()\n",
        "df_zero_based = df.copy()\n",
        "\n",
        "df_abc.index = [\"JJB\", \"H\", \"X\"]\n",
        "df_one_based.index = pd.Index(list(range(1, len(df_one_based) + 1)))\n",
        "df_zero_based.index = pd.Index(list(range(0, len(df_zero_based))))"
      ],
      "metadata": {
        "id": "PKfdWN6AXFoG"
      },
      "execution_count": null,
      "outputs": []
    },
    {
      "cell_type": "markdown",
      "source": [
        "### Check index type and values"
      ],
      "metadata": {
        "id": "diXLAJQfYNKn"
      }
    },
    {
      "cell_type": "code",
      "source": [
        "def is_default_index_type(df):\n",
        "  return df.index.is_integer()\n",
        "\n",
        "def is_default_numeric_index_values(df):\n",
        "  return pd.Index(list(range(0, len(df)))).equals(df.index)\n",
        "\n",
        "def is_default_index(df):\n",
        "  return is_default_index_type(df) and is_default_numeric_index_values(df)\n"
      ],
      "metadata": {
        "id": "Bvkio2odWvVs"
      },
      "execution_count": null,
      "outputs": []
    },
    {
      "cell_type": "markdown",
      "source": [
        "## Verify indices"
      ],
      "metadata": {
        "id": "ySrA8QVzYQgA"
      }
    },
    {
      "cell_type": "markdown",
      "source": [
        "### Default data"
      ],
      "metadata": {
        "id": "wOZ9EQMxZmqe"
      }
    },
    {
      "cell_type": "code",
      "source": [
        "is_default_index(df)"
      ],
      "metadata": {
        "colab": {
          "base_uri": "https://localhost:8080/"
        },
        "id": "vNLdhMoKW2CF",
        "outputId": "794b7bc5-418c-4d72-fa78-7e3db8a35546"
      },
      "execution_count": null,
      "outputs": [
        {
          "output_type": "execute_result",
          "data": {
            "text/plain": [
              "True"
            ]
          },
          "metadata": {},
          "execution_count": 79
        }
      ]
    },
    {
      "cell_type": "markdown",
      "source": [
        "### alphabet data"
      ],
      "metadata": {
        "id": "DREw6ltOZqCM"
      }
    },
    {
      "cell_type": "code",
      "source": [
        "is_default_index(df_abc)"
      ],
      "metadata": {
        "colab": {
          "base_uri": "https://localhost:8080/"
        },
        "id": "sax0ZYN8YIol",
        "outputId": "41add174-0475-4214-a0bf-0ae3d8726c95"
      },
      "execution_count": null,
      "outputs": [
        {
          "output_type": "execute_result",
          "data": {
            "text/plain": [
              "False"
            ]
          },
          "metadata": {},
          "execution_count": 60
        }
      ]
    },
    {
      "cell_type": "markdown",
      "source": [
        "### 1-based data"
      ],
      "metadata": {
        "id": "Y6pU1i2VZsYe"
      }
    },
    {
      "cell_type": "code",
      "source": [
        "is_default_index(df_one_based)"
      ],
      "metadata": {
        "colab": {
          "base_uri": "https://localhost:8080/"
        },
        "id": "tRBiZk32YxKN",
        "outputId": "3b3f7a9f-4e84-4a07-d2ad-202b70732f45"
      },
      "execution_count": null,
      "outputs": [
        {
          "output_type": "execute_result",
          "data": {
            "text/plain": [
              "False"
            ]
          },
          "metadata": {},
          "execution_count": 80
        }
      ]
    },
    {
      "cell_type": "code",
      "source": [
        "pd.Index(np.arange(0, len(df)))"
      ],
      "metadata": {
        "colab": {
          "base_uri": "https://localhost:8080/"
        },
        "id": "pmOa0gXsZKQ-",
        "outputId": "1d7eedc7-6e23-41ee-cb6d-f7e96cc4ccd5"
      },
      "execution_count": null,
      "outputs": [
        {
          "output_type": "execute_result",
          "data": {
            "text/plain": [
              "Int64Index([0, 1, 2], dtype='int64')"
            ]
          },
          "metadata": {},
          "execution_count": 62
        }
      ]
    },
    {
      "cell_type": "code",
      "source": [
        "df_one_based.index"
      ],
      "metadata": {
        "colab": {
          "base_uri": "https://localhost:8080/"
        },
        "id": "Vjm--ZdUZNj7",
        "outputId": "a830d5f9-6fdc-405d-bdac-9762136d13c7"
      },
      "execution_count": null,
      "outputs": [
        {
          "output_type": "execute_result",
          "data": {
            "text/plain": [
              "Int64Index([1, 2, 3], dtype='int64')"
            ]
          },
          "metadata": {},
          "execution_count": 63
        }
      ]
    },
    {
      "cell_type": "markdown",
      "source": [
        "### 0-based data"
      ],
      "metadata": {
        "id": "Wz2GUxurZuWQ"
      }
    },
    {
      "cell_type": "code",
      "source": [
        "is_default_index(df_zero_based)"
      ],
      "metadata": {
        "colab": {
          "base_uri": "https://localhost:8080/"
        },
        "id": "8DKqQYNgYzVz",
        "outputId": "457dd074-f3f4-4a13-a223-ef5da46bd278"
      },
      "execution_count": null,
      "outputs": [
        {
          "output_type": "execute_result",
          "data": {
            "text/plain": [
              "True"
            ]
          },
          "metadata": {},
          "execution_count": 81
        }
      ]
    },
    {
      "cell_type": "code",
      "source": [
        "is_default_index_type(df_zero_based)"
      ],
      "metadata": {
        "colab": {
          "base_uri": "https://localhost:8080/"
        },
        "id": "0J4QXHDSZQse",
        "outputId": "85498f18-c83f-4ad5-d1e1-f1fda6a1817f"
      },
      "execution_count": null,
      "outputs": [
        {
          "output_type": "execute_result",
          "data": {
            "text/plain": [
              "True"
            ]
          },
          "metadata": {},
          "execution_count": 68
        }
      ]
    },
    {
      "cell_type": "code",
      "source": [
        "is_default_numeric_index_values(df_zero_based)"
      ],
      "metadata": {
        "colab": {
          "base_uri": "https://localhost:8080/"
        },
        "id": "eFswNldBZxPs",
        "outputId": "f8f5375e-e409-4655-c6ea-66243661094c"
      },
      "execution_count": null,
      "outputs": [
        {
          "output_type": "execute_result",
          "data": {
            "text/plain": [
              "True"
            ]
          },
          "metadata": {},
          "execution_count": 67
        }
      ]
    }
  ]
}